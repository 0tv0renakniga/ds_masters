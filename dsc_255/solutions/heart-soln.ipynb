{
 "cells": [
  {
   "attachments": {},
   "cell_type": "markdown",
   "metadata": {},
   "source": [
    "Binary logistic regression.\n",
    "The heart disease data set is described at:\n",
    "https://archive.ics.uci.edu/ml/datasets/Heart+Disease\n",
    "The course webpage has a file heart.csv that contains a more compact version of this data set with\n",
    "303 data points, each of which has a 13-dimensional attribute vector x (first 13 columns) and a binary\n",
    "label y (final column). We’ll work with this smaller data set."
   ]
  },
  {
   "attachments": {},
   "cell_type": "markdown",
   "metadata": {},
   "source": [
    "(a) Randomly partition the data into 200 training points and 103 test points. Fit a logistic regression\n",
    "model to the training data and display the coefficients of the model. If you had to choose the\n",
    "three features that were most influential in the model, what would they be?"
   ]
  },
  {
   "cell_type": "code",
   "execution_count": 133,
   "metadata": {},
   "outputs": [],
   "source": [
    "# Randomly partition data into 200 training points and 103 test points \n",
    "from pandas import read_csv\n",
    "import numpy as np \n",
    "from sklearn.linear_model import LogisticRegression \n",
    " \n",
    "d = read_csv('heart.csv')\n",
    " \n",
    "data = d.values\n",
    "np.random.shuffle(data)\n",
    "features = data[:, 0:-1]\n",
    "labels = data[:,-1]\n",
    "\n",
    "train_features = features[0:200,:]\n",
    "train_labels = labels[0:200]\n",
    "\n",
    "test_features = features[200:,:]\n",
    "test_labels = labels[200:]\n"
   ]
  },
  {
   "cell_type": "code",
   "execution_count": 134,
   "metadata": {},
   "outputs": [
    {
     "name": "stdout",
     "output_type": "stream",
     "text": [
      "[[ 0.02854899 -1.33926467  0.6408165  -0.01446384 -0.00155748 -0.52903129\n",
      "   0.52888458  0.02246758 -1.03397455 -0.33038919  0.57155042 -1.06607593\n",
      "  -0.85016179]]\n",
      "[[ 4  3  7  0  9  6  5 10  2 12  8 11  1]]\n"
     ]
    }
   ],
   "source": [
    "# Fit a logistic regression model to training data and display the coefficients of the model\n",
    "model = LogisticRegression(solver='liblinear')\n",
    "clf = model.fit(train_features, train_labels)\n",
    "print(clf.coef_)\n",
    "# Find the three most influential features -> sort the coefficients by magnitude and choose \n",
    "# the features corresponding to the three largest values\n",
    "sorted_coeff_array_indices = np.argsort(np.abs(clf.coef_))\n",
    "print(sorted_coeff_array_indices)"
   ]
  },
  {
   "attachments": {},
   "cell_type": "markdown",
   "metadata": {},
   "source": [
    "The three features that were most influential in the model were sex (1), ca (11), and exang (8)."
   ]
  },
  {
   "attachments": {},
   "cell_type": "markdown",
   "metadata": {},
   "source": [
    "(b) What is the test error of your model?"
   ]
  },
  {
   "cell_type": "code",
   "execution_count": 135,
   "metadata": {},
   "outputs": [
    {
     "data": {
      "text/plain": [
       "0.8058252427184466"
      ]
     },
     "execution_count": 135,
     "metadata": {},
     "output_type": "execute_result"
    }
   ],
   "source": [
    "clf.score(test_features, test_labels)"
   ]
  },
  {
   "attachments": {},
   "cell_type": "markdown",
   "metadata": {},
   "source": [
    "(c) Estimate the error by using 5-fold cross-validation on the training set. How does this compare to\n",
    "the test error?"
   ]
  },
  {
   "cell_type": "code",
   "execution_count": 136,
   "metadata": {},
   "outputs": [
    {
     "data": {
      "text/plain": [
       "0.85"
      ]
     },
     "execution_count": 136,
     "metadata": {},
     "output_type": "execute_result"
    }
   ],
   "source": [
    "def cross_validation(k, features, labels):\n",
    "    \n",
    "    n = len(labels)\n",
    "    score = 0\n",
    "    \n",
    "    for i in range(k):\n",
    "\n",
    "        # Partition train and validation set\n",
    "        validation_features = features[0:int(n/k)]\n",
    "        validation_labels = labels[0:int(n/k)]\n",
    "        train_features = features[int(n/k):]\n",
    "        train_labels = labels[int(n/k):]\n",
    "\n",
    "        # Train + test model\n",
    "        model = LogisticRegression(solver='liblinear')\n",
    "        clf = model.fit(train_features, train_labels)\n",
    "        score = score + clf.score(validation_features, validation_labels)\n",
    "\n",
    "        features = np.concatenate((train_features, validation_features))\n",
    "        labels = np.concatenate((train_labels, validation_labels))\n",
    "\n",
    "    return score/k\n",
    "    \n",
    "cross_validation(5, train_features, train_labels)"
   ]
  },
  {
   "attachments": {},
   "cell_type": "markdown",
   "metadata": {},
   "source": [
    "The error estimated by using 5-fold cross-validation on the training set is very similar to the test error. "
   ]
  }
 ],
 "metadata": {
  "kernelspec": {
   "display_name": "Python 3",
   "language": "python",
   "name": "python3"
  },
  "language_info": {
   "codemirror_mode": {
    "name": "ipython",
    "version": 3
   },
   "file_extension": ".py",
   "mimetype": "text/x-python",
   "name": "python",
   "nbconvert_exporter": "python",
   "pygments_lexer": "ipython3",
   "version": "3.10.1"
  },
  "orig_nbformat": 4,
  "vscode": {
   "interpreter": {
    "hash": "52d5a77aa2e048a8479a25d9dc94b4f6dab2fd10bbbc1f656acda3b735c3679c"
   }
  }
 },
 "nbformat": 4,
 "nbformat_minor": 2
}
