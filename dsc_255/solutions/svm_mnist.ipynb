{
 "cells": [
  {
   "cell_type": "markdown",
   "metadata": {},
   "source": [
    "## SVMs for MNIST\n",
    "\n",
    "In this notebook, we'll be covering SVMs for multiclass prediction on the MNIST dataset."
   ]
  },
  {
   "cell_type": "code",
   "execution_count": null,
   "metadata": {},
   "outputs": [],
   "source": [
    "%matplotlib inline\n",
    "import numpy as np\n",
    "import string\n",
    "import random\n",
    "from sklearn import svm"
   ]
  },
  {
   "cell_type": "code",
   "execution_count": null,
   "metadata": {},
   "outputs": [],
   "source": [
    "## Load the training set\n",
    "train_data = np.load('MNIST/full_train_data.npy')\n",
    "train_labels = np.load('MNIST/full_train_labels.npy')\n",
    "\n",
    "## Load the testing set\n",
    "test_data = np.load('MNIST/full_test_data.npy')\n",
    "test_labels = np.load('MNIST/full_test_labels.npy')\n",
    "\n",
    "## Print out their dimensions\n",
    "print(\"Training dataset dimensions: \", np.shape(train_data))\n",
    "print(\"Number of training labels: \", len(train_labels))\n",
    "print(\"Testing dataset dimensions: \", np.shape(test_data))\n",
    "print(\"Number of testing labels: \", len(test_labels))"
   ]
  },
  {
   "cell_type": "markdown",
   "metadata": {},
   "source": [
    "## Multiclass Support Vector Machines\n",
    "\n",
    "In the multiclass setting of SVMs, we are given a set of examples $(x_1, y_1), \\ldots, (x_n, y_n)$. This time, however, each label $y_i$ can take values in the set $\\{ 1, 2, \\ldots, k \\}$. Our goal is to find a set of weight vectors $w_1, \\ldots, w_k \\in \\mathbb{R}^d$ that solves the following optimization problem:\n",
    "\n",
    "$$ \\min_{w_1, \\ldots, w_k \\in \\mathbb{R}^d} \\sum_{i=1}^k \\| w_i \\|^2 + c \\sum_{i=1}^n \\xi_i $$\n",
    "$$ \\text{such that for each } x_i \\text{ with label } y_i = s \\text{ we have } \\langle w_s, x_i \\rangle - \\langle w_t, x_i \\rangle \\geq 1 - \\xi_i \\text{ for all } t \\neq s$$\n",
    "\n",
    "Scikit-learn provides functionality for solving this optimization problem."
   ]
  },
  {
   "cell_type": "code",
   "execution_count": null,
   "metadata": {},
   "outputs": [],
   "source": [
    "## Fit Linear SVM over several values of c\n",
    "c_vals = [0.01, 0.1, 1.0, 10.0, 100.0]\n",
    "for c in c_vals:\n",
    "    clf = svm.LinearSVC(C=c, loss='hinge')\n",
    "    clf.fit(train_data,train_labels)\n",
    "\n",
    "    ## Get predictions on test data\n",
    "    train_err = 1.0-clf.score(train_data, train_labels)\n",
    "    test_err = 1.0-clf.score(test_data, test_labels)\n",
    "    \n",
    "    print('C=%0.2f: train error %0.3f test error %0.3f' % (c, train_err, test_err))"
   ]
  },
  {
   "cell_type": "markdown",
   "metadata": {},
   "source": [
    "Unfortunately, the test error is quite high. This indicates to us that perhaps a linear classifier is not the best for this task. Indeed, we can see that the SVM gets high error on the _training set_."
   ]
  },
  {
   "cell_type": "markdown",
   "metadata": {},
   "source": [
    "## Kernels\n",
    "\n"
   ]
  },
  {
   "cell_type": "code",
   "execution_count": null,
   "metadata": {},
   "outputs": [],
   "source": [
    "## Use a quadratic (degree 2 polynomial) kernel.\n",
    "clf = svm.SVC(C=1.0, kernel='poly', degree=2)\n",
    "clf.fit(train_data, train_labels)\n",
    "\n",
    "## Compute errors\n",
    "train_err = 1.0-clf.score(train_data, train_labels)\n",
    "test_err = 1.0-clf.score(test_data, test_labels)\n",
    "print('Training error %0.3f test error %0.3f' % (train_err, test_err))\n",
    "print('Number of support vectors: %d' % (len(clf.support_)))"
   ]
  }
 ],
 "metadata": {
  "anaconda-cloud": {},
  "kernelspec": {
   "display_name": "Python 3 (ipykernel)",
   "language": "python",
   "name": "python3"
  },
  "language_info": {
   "codemirror_mode": {
    "name": "ipython",
    "version": 3
   },
   "file_extension": ".py",
   "mimetype": "text/x-python",
   "name": "python",
   "nbconvert_exporter": "python",
   "pygments_lexer": "ipython3",
   "version": "3.10.9"
  },
  "toc": {
   "colors": {
    "hover_highlight": "#DAA520",
    "navigate_num": "#000000",
    "navigate_text": "#333333",
    "running_highlight": "#FF0000",
    "selected_highlight": "#FFD700",
    "sidebar_border": "#EEEEEE",
    "wrapper_background": "#FFFFFF"
   },
   "moveMenuLeft": true,
   "nav_menu": {
    "height": "12px",
    "width": "252px"
   },
   "navigate_menu": true,
   "number_sections": true,
   "sideBar": true,
   "threshold": 4,
   "toc_cell": false,
   "toc_section_display": "block",
   "toc_window_display": false,
   "widenNotebook": false
  }
 },
 "nbformat": 4,
 "nbformat_minor": 1
}
