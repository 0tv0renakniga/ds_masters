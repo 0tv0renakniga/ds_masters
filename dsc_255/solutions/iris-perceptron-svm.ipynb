{
 "cells": [
  {
   "cell_type": "markdown",
   "metadata": {},
   "source": [
    "Load in the `wine` data set, and create a binary classification problem with just two features (for plotting purposes).\n",
    "\n",
    "This routine assumes that your directory contains the file `wine.data.txt`."
   ]
  },
  {
   "cell_type": "code",
   "execution_count": 1,
   "metadata": {},
   "outputs": [],
   "source": [
    "%matplotlib inline\n",
    "import numpy as np\n",
    "import matplotlib.pyplot as plt\n",
    "#\n",
    "# Load in wine data: 178 instances, 3 classes\n",
    "#\n",
    "data = np.loadtxt('wine.data.txt', delimiter=',')\n",
    "ax = data[0:178,1:14]\n",
    "ay = data[0:178,0]\n",
    "#\n",
    "# Now get indices of classes 1 and 2: total of 130 instances\n",
    "# Let x,y be the data and labels for just those instances\n",
    "#\n",
    "I1 = (ay == 1)\n",
    "I2 = (ay == 2)\n",
    "I = I1 + I2\n",
    "x = ax[I,:]\n",
    "y = ay[I]\n",
    "#\n",
    "# Use just two features:\n",
    "# Alcohol level (feature 0) and hue (feature 10)\n",
    "#\n",
    "features = (0,10)\n",
    "x = x[:,features]"
   ]
  },
  {
   "cell_type": "markdown",
   "metadata": {},
   "source": [
    "Now plot the points to see what they look like."
   ]
  },
  {
   "cell_type": "code",
   "execution_count": 2,
   "metadata": {},
   "outputs": [
    {
     "data": {
      "image/png": "[encoded data removed]",
      "text/plain": [
       "<Figure size 432x288 with 1 Axes>"
      ]
     },
     "metadata": {
      "needs_background": "light"
     },
     "output_type": "display_data"
    }
   ],
   "source": [
    "x_min, x_max = 11.0, 15.0\n",
    "y_min, y_max = 0.6, 1.5\n",
    "plt.plot(x[(y==1),0], x[(y==1),1], 'ro')\n",
    "plt.plot(x[(y==2),0], x[(y==2),1], 'k^')\n",
    "plt.xlabel('Alcohol level', fontsize=14, color='red')\n",
    "plt.ylabel('Hue', fontsize=14, color='red')\n",
    "\n",
    "plt.xlim(x_min, x_max)\n",
    "plt.ylim(y_min, y_max)\n",
    "plt.yticks([0.6,0.7,0.8,0.9,1.0,1.1,1.2,1.3,1.4,1.5])\n",
    "plt.show()"
   ]
  },
  {
   "cell_type": "markdown",
   "metadata": {},
   "source": [
    "Next, let's train a linear SVM. We'll just use default parameters."
   ]
  },
  {
   "cell_type": "code",
   "execution_count": 3,
   "metadata": {},
   "outputs": [
    {
     "data": {
      "text/plain": [
       "SVC(kernel='linear')"
      ]
     },
     "execution_count": 3,
     "metadata": {},
     "output_type": "execute_result"
    }
   ],
   "source": [
    "from sklearn.svm import SVC\n",
    "\n",
    "clf = SVC(kernel='linear')\n",
    "clf.fit(x,y)"
   ]
  },
  {
   "cell_type": "markdown",
   "metadata": {},
   "source": [
    "Identify the support vectors so that they can be highlighted in the subsequent plot.\n"
   ]
  },
  {
   "cell_type": "code",
   "execution_count": 4,
   "metadata": {},
   "outputs": [],
   "source": [
    "sv = np.zeros(130,dtype=bool)\n",
    "sv[clf.support_] = True\n",
    "notsv = np.logical_not(sv)"
   ]
  },
  {
   "cell_type": "markdown",
   "metadata": {},
   "source": [
    "Now let's plot the decision boundary, along with the data points, drawing the support vectors slightly larger than the other points."
   ]
  },
  {
   "cell_type": "code",
   "execution_count": 5,
   "metadata": {},
   "outputs": [
    {
     "data": {
      "image/png": "[encoded data removed]",
      "text/plain": [
       "<Figure size 432x288 with 1 Axes>"
      ]
     },
     "metadata": {
      "needs_background": "light"
     },
     "output_type": "display_data"
    }
   ],
   "source": [
    "delta = 0.005\n",
    "x_min, x_max = 11.0, 15.0\n",
    "y_min, y_max = 0.6, 1.5\n",
    "xx, yy = np.meshgrid(np.arange(x_min, x_max, delta), np.arange(y_min, y_max, delta))\n",
    "Z = clf.decision_function(np.c_[xx.ravel(), yy.ravel()])\n",
    "for i in range(len(Z)):\n",
    "    Z[i] = min(Z[i],1.0)\n",
    "    Z[i] = max(Z[i],-1.0)\n",
    "    if (Z[i] > 0.0) and (Z[i] < 1.0):\n",
    "        Z[i] = 0.5\n",
    "    if (Z[i] < 0.0) and (Z[i] > -1.0):\n",
    "        Z[i] = -0.5\n",
    "# Put the result into a color plot\n",
    "Z = Z.reshape(xx.shape)\n",
    "plt.pcolormesh(xx, yy, Z, cmap=plt.cm.PRGn, vmin=-2, vmax=2)\n",
    "\n",
    "# Plot also the training points\n",
    "plt.plot(x[(y==1)*notsv,0], x[(y==1)*notsv,1], 'ro')\n",
    "plt.plot(x[(y==1)*sv,0], x[(y==1)*sv,1], 'ro', markersize=10)\n",
    "plt.plot(x[(y==2)*notsv,0], x[(y==2)*notsv,1], 'k^')\n",
    "plt.plot(x[(y==2)*sv,0], x[(y==2)*sv,1], 'k^', markersize=10)\n",
    "plt.xlabel('Alcohol level', fontsize=14, color='red')\n",
    "plt.ylabel('Hue', fontsize=14, color='red')\n",
    "\n",
    "plt.xlim(x_min, x_max)\n",
    "plt.ylim(y_min, y_max)\n",
    "plt.yticks([0.6,0.7,0.8,0.9,1.0,1.1,1.2,1.3,1.4,1.5])\n",
    "plt.show()"
   ]
  },
  {
   "cell_type": "markdown",
   "metadata": {},
   "source": [
    "## Problem 7"
   ]
  },
  {
   "cell_type": "code",
   "execution_count": 6,
   "metadata": {},
   "outputs": [],
   "source": [
    "#a\n",
    "def classify(w, b, x):\n",
    "    return np.sign(np.dot(w,x) + b)"
   ]
  },
  {
   "cell_type": "code",
   "execution_count": 7,
   "metadata": {},
   "outputs": [],
   "source": [
    "def perceptron(data, labels):\n",
    "    n = len(labels)\n",
    "    inds = np.random.permutation(n)\n",
    "    data = data[inds,:]\n",
    "    labels = labels[inds]\n",
    "    n_correct = 0\n",
    "    w = np.zeros(np.shape(data)[1])\n",
    "    b = 0\n",
    "    while(n_correct < n):\n",
    "        n_correct = 0\n",
    "        for i in range(n):\n",
    "            if (classify(w, b, data[i,:]) == labels[i]):\n",
    "                n_correct += 1\n",
    "            else:\n",
    "                w = w + labels[i]*data[i,:]\n",
    "                b = b + labels[i]\n",
    "    return(w,b)"
   ]
  },
  {
   "cell_type": "code",
   "execution_count": 8,
   "metadata": {},
   "outputs": [],
   "source": [
    "#b\n",
    "from sklearn import datasets\n",
    "iris = datasets.load_iris()\n",
    "x = iris.data\n",
    "y = iris.target"
   ]
  },
  {
   "cell_type": "code",
   "execution_count": 9,
   "metadata": {},
   "outputs": [],
   "source": [
    "features = x[:, (1,3)][:100]\n",
    "labels = np.array(list(map(lambda x: -1 if x==0 else x, y[:100])))"
   ]
  },
  {
   "cell_type": "code",
   "execution_count": 10,
   "metadata": {},
   "outputs": [],
   "source": [
    "#c\n",
    "w,b = perceptron(features, labels) "
   ]
  },
  {
   "cell_type": "code",
   "execution_count": 11,
   "metadata": {},
   "outputs": [
    {
     "data": {
      "image/png": "[encoded data removed]",
      "text/plain": [
       "<Figure size 360x324 with 1 Axes>"
      ]
     },
     "metadata": {
      "needs_background": "light"
     },
     "output_type": "display_data"
    }
   ],
   "source": [
    "fig = plt.figure(figsize=(5,4.5))\n",
    "ax = fig.gca()\n",
    "ax.set_xticks(np.arange(min(features[:,0]), max(features[:,0]), 0.5))\n",
    "ax.set_yticks(np.arange(min(features[:,1]), max(features[:,1]), 0.25))\n",
    "for i,j in zip(features, labels):\n",
    "    if j ==1:\n",
    "        color = 'red'\n",
    "    else:\n",
    "        color = 'green'\n",
    "    ax.scatter(i[0], i[1], color=color)   \n",
    "ax.plot(np.arange(min(features[:,0]), max(features[:,0]), 0.5), np.arange(min(features[:,0]), max(features[:,0]), 0.5) *(-w[0]/w[1]) +(w[0]/w[1]), '--' )\n",
    "plt.show()"
   ]
  },
  {
   "cell_type": "code",
   "execution_count": 12,
   "metadata": {},
   "outputs": [],
   "source": [
    "#d\n",
    "def perceptron(data, labels):\n",
    "    n = len(labels)\n",
    "    inds = np.random.permutation(n)\n",
    "    data = data[inds,:]\n",
    "    labels = labels[inds]\n",
    "    n_correct = 0\n",
    "    w = np.zeros(np.shape(data)[1])\n",
    "    b = 0\n",
    "    num = 0\n",
    "    while(n_correct < n):\n",
    "        n_correct = 0\n",
    "        for i in range(n):\n",
    "            if (classify(w, b, data[i,:]) == labels[i]):\n",
    "                n_correct += 1\n",
    "            else:\n",
    "                w = w + labels[i]*data[i,:]\n",
    "                b = b + labels[i]\n",
    "                num+=1\n",
    "    return(w,b), num"
   ]
  },
  {
   "cell_type": "code",
   "execution_count": 13,
   "metadata": {},
   "outputs": [
    {
     "data": {
      "image/png": "[encoded data removed]",
      "text/plain": [
       "<Figure size 432x288 with 1 Axes>"
      ]
     },
     "metadata": {
      "needs_background": "light"
     },
     "output_type": "display_data"
    }
   ],
   "source": [
    "num_updates = []\n",
    "for _ in range(20):\n",
    "    _, num = perceptron(features, labels) \n",
    "    num_updates.append(num)\n",
    "plt.hist(num_updates, bins=20)\n",
    "plt.show()"
   ]
  },
  {
   "cell_type": "markdown",
   "metadata": {},
   "source": [
    "### Problem 8"
   ]
  },
  {
   "cell_type": "code",
   "execution_count": 14,
   "metadata": {},
   "outputs": [],
   "source": [
    "#a\n",
    "features = x[:, (0,2)][50:]\n",
    "labels = np.array(list(map(lambda x: -1 if x==2 else x, y[50:])))"
   ]
  },
  {
   "cell_type": "code",
   "execution_count": 15,
   "metadata": {},
   "outputs": [
    {
     "data": {
      "image/png": "[encoded data removed]",
      "text/plain": [
       "<Figure size 360x324 with 1 Axes>"
      ]
     },
     "metadata": {
      "needs_background": "light"
     },
     "output_type": "display_data"
    }
   ],
   "source": [
    "fig = plt.figure(figsize=(5,4.5))\n",
    "ax = fig.gca()\n",
    "ax.set_xticks(np.arange(min(features[:,0]), max(features[:,0]), 0.5))\n",
    "ax.set_yticks(np.arange(min(features[:,1]), max(features[:,1]), 0.25))\n",
    "for i,j in zip(features, labels):\n",
    "    if j ==1:\n",
    "        color = 'green'\n",
    "    else:\n",
    "        color = 'red'\n",
    "    ax.scatter(i[0], i[1], color=color)   \n",
    "plt.show()"
   ]
  },
  {
   "cell_type": "code",
   "execution_count": 16,
   "metadata": {},
   "outputs": [],
   "source": [
    "#b\n",
    "C_value = np.arange(1.5, 16, 1.5)\n",
    "errors = []\n",
    "num_vectors = []\n",
    "for c in C_value:\n",
    "    clf = SVC(kernel='linear', C=c)\n",
    "    clf.fit(features,labels)\n",
    "    predicted = clf.predict(features)\n",
    "    error = 1 - sum(predicted == labels) / len(labels)\n",
    "    num_vector = len(clf.support_)\n",
    "    errors.append(error)\n",
    "    num_vectors.append(num_vector)"
   ]
  },
  {
   "cell_type": "code",
   "execution_count": 17,
   "metadata": {},
   "outputs": [
    {
     "data": {
      "text/plain": [
       "array([ 1.5,  3. ,  4.5,  6. ,  7.5,  9. , 10.5, 12. , 13.5, 15. ])"
      ]
     },
     "execution_count": 17,
     "metadata": {},
     "output_type": "execute_result"
    }
   ],
   "source": [
    "C_value "
   ]
  },
  {
   "cell_type": "code",
   "execution_count": 18,
   "metadata": {},
   "outputs": [
    {
     "data": {
      "text/plain": [
       "[0.06999999999999995,\n",
       " 0.050000000000000044,\n",
       " 0.06999999999999995,\n",
       " 0.050000000000000044,\n",
       " 0.050000000000000044,\n",
       " 0.050000000000000044,\n",
       " 0.050000000000000044,\n",
       " 0.040000000000000036,\n",
       " 0.050000000000000044,\n",
       " 0.06999999999999995]"
      ]
     },
     "execution_count": 18,
     "metadata": {},
     "output_type": "execute_result"
    }
   ],
   "source": [
    "errors"
   ]
  },
  {
   "cell_type": "code",
   "execution_count": 19,
   "metadata": {},
   "outputs": [
    {
     "data": {
      "text/plain": [
       "[27, 23, 21, 19, 19, 19, 18, 17, 16, 16]"
      ]
     },
     "execution_count": 19,
     "metadata": {},
     "output_type": "execute_result"
    }
   ],
   "source": [
    "num_vectors"
   ]
  },
  {
   "cell_type": "code",
   "execution_count": 20,
   "metadata": {},
   "outputs": [],
   "source": [
    "#c\n",
    "best_c = C_value[np.argmin(errors)]"
   ]
  },
  {
   "cell_type": "code",
   "execution_count": 21,
   "metadata": {},
   "outputs": [
    {
     "data": {
      "text/plain": [
       "SVC(C=12.0, kernel='linear')"
      ]
     },
     "execution_count": 21,
     "metadata": {},
     "output_type": "execute_result"
    }
   ],
   "source": [
    "clf = SVC(kernel='linear', C=best_c)\n",
    "clf.fit(features,labels)"
   ]
  },
  {
   "cell_type": "code",
   "execution_count": 22,
   "metadata": {},
   "outputs": [],
   "source": [
    "w = clf.coef_[0]\n",
    "b = clf.intercept_[0]"
   ]
  },
  {
   "cell_type": "code",
   "execution_count": 23,
   "metadata": {},
   "outputs": [
    {
     "data": {
      "image/png": "[encoded data removed]",
      "text/plain": [
       "<Figure size 360x324 with 1 Axes>"
      ]
     },
     "metadata": {
      "needs_background": "light"
     },
     "output_type": "display_data"
    }
   ],
   "source": [
    "fig = plt.figure(figsize=(5,4.5))\n",
    "ax = fig.gca()\n",
    "ax.set_xticks(np.arange(min(features[:,0]), max(features[:,0]), 0.5))\n",
    "ax.set_yticks(np.arange(min(features[:,1]), max(features[:,1]), 0.25))\n",
    "for i,j in zip(features, labels):\n",
    "    if j ==1:\n",
    "        color = 'green'\n",
    "    else:\n",
    "        color = 'red'\n",
    "    ax.scatter(i[0], i[1], color=color)   \n",
    "\n",
    "ax.plot(np.arange(min(features[:,0]), max(features[:,0]), 0.5), np.arange(min(features[:,0]), max(features[:,0]), 0.5) *(-w[0]/w[1]) +(w[0]/w[1]) - b/w[1], '--' )\n",
    "plt.show()"
   ]
  },
  {
   "cell_type": "code",
   "execution_count": 24,
   "metadata": {},
   "outputs": [],
   "source": [
    "sv = np.zeros(150,dtype=bool)\n",
    "sv[clf.support_] = True\n",
    "notsv = np.logical_not(sv)"
   ]
  },
  {
   "cell_type": "code",
   "execution_count": null,
   "metadata": {},
   "outputs": [],
   "source": []
  }
 ],
 "metadata": {
  "kernelspec": {
   "display_name": "Python 3",
   "language": "python",
   "name": "python3"
  },
  "language_info": {
   "codemirror_mode": {
    "name": "ipython",
    "version": 3
   },
   "file_extension": ".py",
   "mimetype": "text/x-python",
   "name": "python",
   "nbconvert_exporter": "python",
   "pygments_lexer": "ipython3",
   "version": "3.12.8"
  }
 },
 "nbformat": 4,
 "nbformat_minor": 2
}
