{
 "cells": [
  {
   "cell_type": "markdown",
   "id": "6b661085",
   "metadata": {},
   "source": [
    "## <font color='magenta'>Classifying spine injuries using nearest neighbor</font>\n",
    "\n",
    "\n",
    "### <font color='blue'>Step 1: Load in the data, split into training set and test set</font>\n",
    "\n",
    "Include some standard modules and then load in the data"
   ]
  },
  {
   "cell_type": "code",
   "execution_count": null,
   "id": "caac0879",
   "metadata": {},
   "outputs": [],
   "source": [
    "import numpy as np\n",
    "from numpy.linalg import norm\n",
    "# Load data set and code labels as 0 = ’NO’, 1 = ’DH’, 2 = ’SL’\n",
    "labels = [b'NO', b'DH', b'SL']\n",
    "data = np.loadtxt('spine-data.txt', converters={6: lambda s: labels.index(s)})"
   ]
  },
  {
   "cell_type": "markdown",
   "id": "4125c9d4",
   "metadata": {},
   "source": [
    "Hmm, what is the size of this data set?"
   ]
  },
  {
   "cell_type": "code",
   "execution_count": null,
   "id": "dfd65a4e",
   "metadata": {},
   "outputs": [],
   "source": [
    "data.shape"
   ]
  },
  {
   "cell_type": "markdown",
   "id": "fb40a3f5",
   "metadata": {},
   "source": [
    "Let's look at a sample data point (the second one). The very last entry is the label."
   ]
  },
  {
   "cell_type": "code",
   "execution_count": null,
   "id": "94a4dcb5",
   "metadata": {},
   "outputs": [],
   "source": [
    "data[1,]"
   ]
  },
  {
   "cell_type": "markdown",
   "id": "4f9f71fa",
   "metadata": {},
   "source": [
    "Create a training set of the first 250 points and a test set of the remaining 60 points"
   ]
  },
  {
   "cell_type": "code",
   "execution_count": null,
   "id": "d754151f",
   "metadata": {},
   "outputs": [],
   "source": [
    "train_data = data[:250, :data.shape[1] - 1]\n",
    "test_data = data[-60:, :data.shape[1] - 1]\n",
    "train_labels = data[:250, data.shape[1] - 1]\n",
    "test_labels = data[-60:, data.shape[1] - 1]"
   ]
  },
  {
   "cell_type": "markdown",
   "id": "162a71ee",
   "metadata": {},
   "source": [
    "As a sanity check, let's look at the sizes of the newly-created training and test sets."
   ]
  },
  {
   "cell_type": "code",
   "execution_count": null,
   "id": "960dfd02",
   "metadata": {},
   "outputs": [],
   "source": [
    "print(train_data.shape, train_labels.shape)\n",
    "print(test_data.shape, test_labels.shape)"
   ]
  },
  {
   "cell_type": "markdown",
   "id": "68d97748",
   "metadata": {},
   "source": [
    "### <font color='blue'>Step 2: Procedures for nearest neighbor classification</font>\n",
    "\n",
    "The `find_NN` procedure takes as input both a data point `x` and a number `norm_order` which specifies the norm to use. We call `np.linalg.norm` to compute norms."
   ]
  },
  {
   "cell_type": "code",
   "execution_count": null,
   "id": "31375081",
   "metadata": {},
   "outputs": [],
   "source": [
    "## Takes a vector x and returns the index of its nearest neighbor in train_data\n",
    "def find_NN(x, norm_order):\n",
    "    # Compute distances from x to every row in train_data\n",
    "    distances = [norm(x - train_data[i,], ord=norm_order) for i in range(len(train_labels))]\n",
    "    # Get the index of the smallest distance\n",
    "    return np.argmin(distances)\n",
    "\n",
    "## Takes a vector x and returns the class of its nearest neighbor in train_data\n",
    "def NN_classifier(x, norm_order):\n",
    "    # Get the index of the the nearest neighbor\n",
    "    index = find_NN(x, norm_order)\n",
    "    # Return its class\n",
    "    return train_labels[index]"
   ]
  },
  {
   "cell_type": "markdown",
   "id": "e43f619c",
   "metadata": {},
   "source": [
    "### <font color='blue'>Step 3: Run the code and get classifications and error rates</font>\n",
    "\n",
    "Compute error rates for nearest neighbor classification using L1 distance and using L2 distance."
   ]
  },
  {
   "cell_type": "code",
   "execution_count": null,
   "id": "db8bc602",
   "metadata": {},
   "outputs": [],
   "source": [
    "# do NN classification for both distances\n",
    "l1_test_predictions = [NN_classifier(test_data[i,], 1) for i in range(len(test_labels))]\n",
    "l2_test_predictions = [NN_classifier(test_data[i,], 2) for i in range(len(test_labels))]\n",
    "\n",
    "# print errors\n",
    "l1_err_positions = np.not_equal(l1_test_predictions, test_labels)\n",
    "l1_error = float(np.sum(l1_err_positions))/len(test_labels) \n",
    "\n",
    "print(f\"l1 total misclassified was {np.sum(l1_err_positions)}\")\n",
    "print(f\"l1 error was {l1_error}\")\n",
    "\n",
    "l2_err_positions = np.not_equal(l2_test_predictions, test_labels)\n",
    "l2_error = float(np.sum(l2_err_positions))/len(test_labels) \n",
    "\n",
    "print(f\"l2 total misclassified was {np.sum(l2_err_positions)}\")\n",
    "print(f\"l2 error was {l2_error}\")"
   ]
  },
  {
   "cell_type": "markdown",
   "id": "6cab003b",
   "metadata": {},
   "source": [
    "Finally compute confusion matrices"
   ]
  },
  {
   "cell_type": "code",
   "execution_count": null,
   "id": "91a34db3",
   "metadata": {},
   "outputs": [],
   "source": [
    "# compute confusion matrices for both distances\n",
    "l1_confusion = np.zeros((3, 3))\n",
    "for i in range(0,60):  \n",
    "    l1_confusion[int(test_labels[i]), int(l1_test_predictions[i])] += 1\n",
    "\n",
    "l2_confusion = np.zeros((3, 3))\n",
    "for i in range(0,60):\n",
    "    l2_confusion[int(test_labels[i]), int(l2_test_predictions[i])] += 1\n",
    "\n",
    "print(\"l1 confusion matrix:\")\n",
    "print(l1_confusion)\n",
    "\n",
    "print(\"l2 confusion matrix:\")\n",
    "print(l2_confusion)"
   ]
  }
 ],
 "metadata": {
  "kernelspec": {
   "display_name": "Python 3 (ipykernel)",
   "language": "python",
   "name": "python3"
  },
  "language_info": {
   "codemirror_mode": {
    "name": "ipython",
    "version": 3
   },
   "file_extension": ".py",
   "mimetype": "text/x-python",
   "name": "python",
   "nbconvert_exporter": "python",
   "pygments_lexer": "ipython3",
   "version": "3.10.9"
  }
 },
 "nbformat": 4,
 "nbformat_minor": 5
}
