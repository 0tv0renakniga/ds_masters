{
 "cells": [
  {
   "cell_type": "markdown",
   "id": "c1397f40",
   "metadata": {},
   "source": [
    "#### Question 6"
   ]
  },
  {
   "cell_type": "code",
   "execution_count": 29,
   "id": "bb5f14e6",
   "metadata": {},
   "outputs": [
    {
     "name": "stdout",
     "output_type": "stream",
     "text": [
      "best alpha: 0.026560877829466867\n",
      "indices of the 10 largest coefficients:\n",
      "coordinate number: 4, coefficient: 4.7131842771824\n",
      "coordinate number: 6, coefficient: 4.705164100703595\n",
      "coordinate number: 1, coefficient: 4.310931741925735\n",
      "coordinate number: 22, coefficient: 4.286751680551222\n",
      "coordinate number: 10, coefficient: 4.002280617715773\n",
      "coordinate number: 26, coefficient: 3.9016126507383193\n",
      "coordinate number: 2, coefficient: 3.7254083754072687\n",
      "coordinate number: 12, coefficient: 3.703791161879716\n",
      "coordinate number: 18, coefficient: 3.3730434729455077\n",
      "coordinate number: 16, coefficient: 3.2806820617254204\n"
     ]
    }
   ],
   "source": [
    "import numpy as np\n",
    "from sklearn.linear_model import LassoCV, Lasso\n",
    "\n",
    "## read mystery.dat\n",
    "data = np.loadtxt('mystery.dat', delimiter=',')\n",
    "x = data[:, :-1]\n",
    "y = data[:, -1]\n",
    "\n",
    "## normalize x based on maximum value in all x data\n",
    "x_norm = x / np.max(np.max(X, axis=0), axis=0)\n",
    "\n",
    "## find best alpha using LassoCV\n",
    "## test 100 alphas ranging from 1e-4 to 1e4\n",
    "lasso_cv = LassoCV(alphas=np.logspace(-4, 4, 100), cv=5)\n",
    "lasso_cv.fit(x_norm, y)\n",
    "alpha_best = lasso_cv.alpha_\n",
    "print(f\"best alpha: {alpha_best}\")\n",
    "\n",
    "## fit Lasso model with best alpha\n",
    "lasso = Lasso(alpha=alpha_best)\n",
    "lasso.fit(x_norm, y)\n",
    "\n",
    "## get absolute value of lasso coefficients\n",
    "coefs = np.abs(lasso.coef_)\n",
    "\n",
    "## get indices of the 10 largest coefficients\n",
    "## note: that the coefficients are sorted in descending order\n",
    "indices = np.argsort(coefs)[::-1][:10]\n",
    "\n",
    "## print the indices (coordinate number) of the 10 largest coefficients\n",
    "print(\"indices of the 10 largest coefficients:\")\n",
    "for i in indices:\n",
    "    print(f\"coordinate number: {i}, coefficient: {coefs[i]}\")\n"
   ]
  },
  {
   "cell_type": "markdown",
   "id": "54b96a1f",
   "metadata": {},
   "source": [
    "#### Question 7"
   ]
  },
  {
   "cell_type": "code",
   "execution_count": 92,
   "id": "c391ee64",
   "metadata": {},
   "outputs": [
    {
     "name": "stdout",
     "output_type": "stream",
     "text": [
      "top 3 coefficients and features:\n",
      "index: 11 coefficient: 1.778677470015258, feature: ca\n",
      "index: 2 coefficient: 1.6573955754020404, feature: cp\n",
      "index: 7 coefficient: 1.5275059507432016, feature: thalach\n",
      "log_reg test error: 0.18446601941747576\n",
      "mean 5-fold cross-validation error: 0.19999999999999996\n",
      "Difference (log_reg - cv): -0.0155\n"
     ]
    }
   ],
   "source": [
    "## import libraries\n",
    "from sklearn.model_selection import train_test_split, cross_val_score\n",
    "from sklearn.linear_model import LogisticRegression\n",
    "from sklearn.metrics import accuracy_score\n",
    "import numpy as np\n",
    "import os\n",
    "\n",
    "## read heart.csv\n",
    "## note: the first column is the index, so we skip it\n",
    "## col names are age,sex,cp,trestbps,chol,fbs,restecg,thalach,exang,oldpeak,slope,ca,thal,target\n",
    "data = np.loadtxt('heart.csv', delimiter=',', dtype=None, skiprows=1)\n",
    "column_names = os.popen('head -1 heart.csv').read().split(',')\n",
    "x = data[:, :-1]\n",
    "y = data[:, -1]\n",
    "\n",
    "## normalize each x column based on maximum value in column\n",
    "## note: this will scale each feature [0,1]\n",
    "x_norm = x / np.max(x, axis=0)\n",
    "\n",
    "## split data into training and test sets\n",
    "## note: train_test_split shuffles the data before splitting\n",
    "## note: test points = 103 and train points = 200 for test_size=0.339\n",
    "x_train, x_test, y_train, y_test = train_test_split(x_norm, y, test_size=0.339, random_state=33)\n",
    "\n",
    "## fit logistic regression model\n",
    "log_reg = LogisticRegression(max_iter=1000,solver='liblinear')\n",
    "log_reg.fit(x_train, y_train)\n",
    "\n",
    "## predict on test set and calculate accuracy\n",
    "y_pred = log_reg.predict(x_test)\n",
    "test_accuracy = accuracy_score(y_test, y_pred)\n",
    "\n",
    "## get absolute value of logistic regression coefficients\n",
    "coefs = np.abs(log_reg.coef_[0])\n",
    "\n",
    "## get indices of the 3 largest coefficients\n",
    "## note: that the coefficients are sorted in descending order\n",
    "indices = np.argsort(coefs)[::-1][:3]\n",
    "\n",
    "## top 3 coefficients and features\n",
    "print(\"top 3 coefficients and features:\")\n",
    "for i in indices:\n",
    "    print(f\"index: {i} coefficient: {coefs[i]}, feature: {column_names[i]}\")\n",
    "\n",
    "## log_reg test error \n",
    "test_error = 1 - test_accuracy\n",
    "print(\"log_reg test error:\", test_error)\n",
    "\n",
    "## 5-fold cross-validation error \n",
    "cv_scores = cross_val_score(log_reg, x_train, y_train, cv=5, scoring='accuracy')\n",
    "cv_error = 1 - cv_scores.mean()\n",
    "print(\"mean 5-fold cross-validation error:\", cv_error)\n",
    "\n",
    "# compare log_reg test error and 5-fold cross-validation error \n",
    "print(f\"Difference (log_reg - cv): {test_error - cv_error:.4f}\")"
   ]
  }
 ],
 "metadata": {
  "kernelspec": {
   "display_name": "ucsd",
   "language": "python",
   "name": "python3"
  },
  "language_info": {
   "codemirror_mode": {
    "name": "ipython",
    "version": 3
   },
   "file_extension": ".py",
   "mimetype": "text/x-python",
   "name": "python",
   "nbconvert_exporter": "python",
   "pygments_lexer": "ipython3",
   "version": "3.12.3"
  }
 },
 "nbformat": 4,
 "nbformat_minor": 5
}
