{
 "cells": [
  {
   "cell_type": "markdown",
   "metadata": {},
   "source": [
    "# Gaussian generative models for handwritten digit classification"
   ]
  },
  {
   "cell_type": "markdown",
   "metadata": {},
   "source": [
    "Recall that the 1-NN classifier yielded a 3.09% test error rate on the MNIST data set of handwritten digits. We will now see that a Gaussian generative model does almost as well, while being significantly faster and more compact."
   ]
  },
  {
   "cell_type": "markdown",
   "metadata": {},
   "source": [
    "## 1. Set up notebook and load in data"
   ]
  },
  {
   "cell_type": "markdown",
   "metadata": {},
   "source": [
    "As usual, we start by importing the required packages and data. For this notebook we will be using the *entire* `MNIST` dataset. The code below defines some helper functions that will load `MNIST` onto your computer."
   ]
  },
  {
   "cell_type": "code",
   "execution_count": 2,
   "metadata": {},
   "outputs": [],
   "source": [
    "%matplotlib inline\n",
    "import matplotlib.pyplot as plt \n",
    "import gzip, os, sys\n",
    "import numpy as np\n",
    "from scipy.stats import multivariate_normal\n",
    "from sklearn.model_selection import train_test_split\n",
    "\n",
    "if sys.version_info[0] == 2:\n",
    "    from urllib import urlretrieve\n",
    "else:\n",
    "    from urllib.request import urlretrieve"
   ]
  },
  {
   "cell_type": "code",
   "execution_count": null,
   "metadata": {},
   "outputs": [],
   "source": [
    "# Function that downloads a specified MNIST data file from Yann Le Cun's website\n",
    "#def download(filename, source='http://yann.lecun.com/exdb/mnist/'):\n",
    "def download(filename, source='https://github.com/0tv0renakniga/dsc_255_hw3_minst_data/'):\n",
    "    print(\"Downloading %s\" % filename)\n",
    "    urlretrieve(source + filename, filename)\n"
   ]
  },
  {
   "cell_type": "code",
   "execution_count": 3,
   "metadata": {},
   "outputs": [],
   "source": [
    "## new download to get data from my repo\n",
    "def download(filename):\n",
    "    url = 'https://github.com/0tv0renakniga/dsc_255_hw3_minst_data/raw/main'\n",
    "    file_url = f'{url}/{filename}'\n",
    "    cmd = f'wget -O {filename} {file_url}'\n",
    "    os.system(cmd)\n",
    "\n",
    "# Invokes download() if necessary, then reads in images\n",
    "def load_mnist_images(filename):\n",
    "    if not os.path.exists(filename):\n",
    "        download(filename)\n",
    "    with gzip.open(filename, 'rb') as f:\n",
    "        data = np.frombuffer(f.read(), np.uint8, offset=16)\n",
    "    data = data.reshape(-1,784)\n",
    "    return data\n",
    "\n",
    "def load_mnist_labels(filename):\n",
    "    if not os.path.exists(filename):\n",
    "        download(filename)\n",
    "    with gzip.open(filename, 'rb') as f:\n",
    "        data = np.frombuffer(f.read(), np.uint8, offset=8)\n",
    "    return data\n"
   ]
  },
  {
   "cell_type": "markdown",
   "metadata": {},
   "source": [
    "Now load in the training set and test set"
   ]
  },
  {
   "cell_type": "code",
   "execution_count": 4,
   "metadata": {},
   "outputs": [],
   "source": [
    "## Load the training set\n",
    "train_data = load_mnist_images('train-images-idx3-ubyte.gz')\n",
    "train_labels = load_mnist_labels('train-labels-idx1-ubyte.gz')\n",
    "\n",
    "## Load the testing set\n",
    "test_data = load_mnist_images('t10k-images-idx3-ubyte.gz')\n",
    "test_labels = load_mnist_labels('t10k-labels-idx1-ubyte.gz')"
   ]
  },
  {
   "cell_type": "markdown",
   "metadata": {},
   "source": [
    "The function **displaychar** shows a single MNIST digit. To do this, it first has to reshape the 784-dimensional vector into a 28x28 image."
   ]
  },
  {
   "cell_type": "code",
   "execution_count": 5,
   "metadata": {},
   "outputs": [],
   "source": [
    "def displaychar(image):\n",
    "    plt.imshow(np.reshape(image, (28,28)), cmap=plt.cm.gray)\n",
    "    plt.axis('off')\n",
    "    plt.show()"
   ]
  },
  {
   "cell_type": "code",
   "execution_count": 6,
   "metadata": {},
   "outputs": [
    {
     "data": {
      "image/png": "[encoded data removed]",
      "text/plain": [
       "<Figure size 640x480 with 1 Axes>"
      ]
     },
     "metadata": {},
     "output_type": "display_data"
    }
   ],
   "source": [
    "displaychar(train_data[1])"
   ]
  },
  {
   "cell_type": "markdown",
   "metadata": {},
   "source": [
    "The training set consists of 60,000 images. Thus `train_data` should be a 60000x784 array while `train_labels` should be 60000x1. Let's check."
   ]
  },
  {
   "cell_type": "code",
   "execution_count": 7,
   "metadata": {},
   "outputs": [
    {
     "data": {
      "text/plain": [
       "((60000, 784), (60000,))"
      ]
     },
     "execution_count": 7,
     "metadata": {},
     "output_type": "execute_result"
    }
   ],
   "source": [
    "train_data.shape, train_labels.shape"
   ]
  },
  {
   "cell_type": "markdown",
   "metadata": {},
   "source": [
    "## 2. Fit a Gaussian generative model to the training data"
   ]
  },
  {
   "cell_type": "markdown",
   "metadata": {},
   "source": [
    "**<font color=\"magenta\">For you to do:</font>** Define a function, **fit_generative_model**, that takes as input a training set (data `x` and labels `y`) and fits a Gaussian generative model to it. It should return the parameters of this generative model; for each label `j = 0,1,...,9`, we have:\n",
    "* `pi[j]`: the frequency of that label\n",
    "* `mu[j]`: the 784-dimensional mean vector\n",
    "* `sigma[j]`: the 784x784 covariance matrix\n",
    "\n",
    "This means that `pi` is 10x1, `mu` is 10x784, and `sigma` is 10x784x784.\n",
    "\n",
    "We have already seen how to fit a Gaussian generative model in the Winery example, but now there is an added ingredient. <font color=\"magenta\">The empirical covariances are very likely to be singular (or close to singular), which means that we won't be able to do calculations with them</font>. Thus it is important to **regularize** these matrices. The standard way of doing this is to add `cI` to them, where `c` is some constant and `I` is the 784-dimensional identity matrix. (To put it another way, we compute the empirical covariances and then increase their diagonal entries by some constant `c`.)\n",
    "\n",
    "This modification is guaranteed to yield covariance matrices that are non-singular, for any `c > 0`, no matter how small. But this doesn't mean that we should make `c` as small as possible. Indeed, `c` is now a parameter, and by setting it appropriately, we can improve the performance of the model. We will study **regularization** in greater detail over the coming weeks.\n",
    "\n",
    "Your routine needs to choose a good setting of `c`. Crucially, this needs to be done using the training set alone. So you might try setting aside part of the training set as a validation set, or using some kind of cross-validation."
   ]
  },
  {
   "cell_type": "code",
   "execution_count": null,
   "metadata": {},
   "outputs": [
    {
     "name": "stdout",
     "output_type": "stream",
     "text": [
      "(60000, 784)\n"
     ]
    }
   ],
   "source": [
    "'''\n",
    "THIS IS THE FITTING PART\n",
    "k=10\n",
    "# Compute log Pr(label|image) for each [test image,label] pair.\n",
    "score = np.zeros((len(test_labels),k))\n",
    "for label in range(0,k):\n",
    "    rv = multivariate_normal(mean=mu[label], cov=sigma[label])\n",
    "    for i in range(0,len(test_labels)):\n",
    "       score[i,label] = np.log(pi[label]) + rv.logpdf(test_data[i,:])\n",
    "predictions = np.argmax(score, axis=1)\n",
    "# Finally, tally up score\n",
    "errors = np.sum(predictions != test_labels)'''"
   ]
  },
  {
   "cell_type": "code",
   "execution_count": null,
   "metadata": {},
   "outputs": [],
   "source": [
    "def fit_generative_model(x,y):\n",
    "    k = 10  # labels 0,1,...,k-1\n",
    "    d = (x.shape)[1]  # number of features\n",
    "    mu = np.zeros((k,d))\n",
    "    sigma = np.zeros((k,d,d))\n",
    "    pi = np.zeros(k)\n",
    "\n",
    "    ## normalize data [0,1]\n",
    "    x = x.astype(np.float32)/255.0\n",
    "\n",
    "    ## initialize training set and validation set to find best regularization parameter c\n",
    "    ## note: we will do a 80/20 split of x,y\n",
    "    x_train, x_val, y_train, y_val = train_test_split(x, y, test_size=0.2, random_state=17)\n",
    "\n",
    "    def calc_priors_means_covariances(x,y,c):\n",
    "        ## calc priors, means, and covariances\n",
    "        if c > 0:\n",
    "            for j in range(k):\n",
    "                indices = (y==j).flatten()\n",
    "                x_j = x[indices]\n",
    "                pi[j] = x_j.shape[0]/x.shape[0]\n",
    "                mu[j] = np.mean(x_j, axis=0)\n",
    "                sigma[j] = np.cov(x_j.T) + c*np.eye(d)\n",
    "        else:\n",
    "            for j in range(k):\n",
    "                indices = (y==j).flatten()\n",
    "                x_j = x[indices]\n",
    "                pi[j] = x_j.shape[0]/x.shape[0]\n",
    "                mu[j] = np.mean(x_j, axis=0)\n",
    "                sigma[j] = np.cov(x_j.T) \n",
    "        return mu, sigma, pi\n",
    "\n",
    "    ## evaluate c using multivariate normal distribution to the training set and validation set\n",
    "    def fit(x_train,y_train,x_val,y_val,c):\n",
    "        print(f'calculating mu, sigma, pi for c: {c}')\n",
    "        mu, sigma, pi = calc_priors_means_covariances(x_train,y_train,c)\n",
    "        score = np.zeros((len(x_val),k))\n",
    "        print(f'calc score for c: {c}')\n",
    "        for label in range(0,k):\n",
    "            rv = multivariate_normal(mean=mu[label], cov=sigma[label],allow_singular=True)\n",
    "            score[:,label] = np.log(pi[label]) + rv.logpdf(x_val[:,:])\n",
    "            #for i in range(0,len(x_val)):\n",
    "                #score[i,label] = np.log(pi[label]) + rv.logpdf(x_val[i,:])\n",
    "        predictions = np.argmax(score, axis=1)\n",
    "        errors = np.sum(predictions != y_val)\n",
    "        print(f'c: {c}, errors: {errors}')\n",
    "        return errors\n",
    "\n",
    "    ## find best c\n",
    "    def find_best_c():\n",
    "        ## initialize c values to test and an empty list to store errors\n",
    "        c_values = [0,0.0001,0.001, 0.01, 0.1, 1, 10, 100, 1000, 10000]\n",
    "        errors = []\n",
    "        ## loop through c values and calculate error\n",
    "        for c in c_values:\n",
    "            print(\"Calculating error for c: \", c)\n",
    "            error = fit(x_train,y_train,x_val,y_val,c)\n",
    "            errors.append(error)\n",
    "            print(\"c: \", c, \" error: \", error)\n",
    "            c_error_dict['c_value'].append(c)\n",
    "            c_error_dict['error'].append(error)\n",
    "        ## find best c where error is minimum\n",
    "        best_c = c_values[np.argmin(errors)]\n",
    "\n",
    "        return best_c\n",
    "\n",
    "    ## calculate best c\n",
    "    best_c, c_error_dict = find_best_c()\n",
    "    \n",
    "    ## calc mu, sigma, pi using best c\n",
    "    mu, sigma, pi = calc_priors_means_covariances(x,y,best_c)\n",
    "\n",
    "    # Halt and return parameters\n",
    "    return mu, sigma, pi"
   ]
  },
  {
   "cell_type": "code",
   "execution_count": 19,
   "metadata": {},
   "outputs": [
    {
     "name": "stdout",
     "output_type": "stream",
     "text": [
      "Calculating error for c:  0\n",
      "calculating mu, sigma, pi for c: 0\n",
      "calc score for c: 0\n",
      "c: 0, errors: 9119\n",
      "c:  0  error:  9119\n",
      "Calculating error for c:  0.0001\n",
      "calculating mu, sigma, pi for c: 0.0001\n",
      "calc score for c: 0.0001\n",
      "c: 0.0001, errors: 1647\n",
      "c:  0.0001  error:  1647\n",
      "Calculating error for c:  0.001\n",
      "calculating mu, sigma, pi for c: 0.001\n",
      "calc score for c: 0.001\n",
      "c: 0.001, errors: 1171\n",
      "c:  0.001  error:  1171\n",
      "Calculating error for c:  0.01\n",
      "calculating mu, sigma, pi for c: 0.01\n",
      "calc score for c: 0.01\n",
      "c: 0.01, errors: 695\n",
      "c:  0.01  error:  695\n",
      "Calculating error for c:  0.1\n",
      "calculating mu, sigma, pi for c: 0.1\n",
      "calc score for c: 0.1\n",
      "c: 0.1, errors: 608\n",
      "c:  0.1  error:  608\n",
      "Calculating error for c:  1\n",
      "calculating mu, sigma, pi for c: 1\n",
      "calc score for c: 1\n",
      "c: 1, errors: 1482\n",
      "c:  1  error:  1482\n",
      "Calculating error for c:  10\n",
      "calculating mu, sigma, pi for c: 10\n",
      "calc score for c: 10\n",
      "c: 10, errors: 3837\n",
      "c:  10  error:  3837\n",
      "Calculating error for c:  100\n",
      "calculating mu, sigma, pi for c: 100\n",
      "calc score for c: 100\n",
      "c: 100, errors: 8255\n",
      "c:  100  error:  8255\n",
      "Calculating error for c:  1000\n",
      "calculating mu, sigma, pi for c: 1000\n",
      "calc score for c: 1000\n",
      "c: 1000, errors: 10638\n",
      "c:  1000  error:  10638\n",
      "Best c value:  0.1\n"
     ]
    },
    {
     "data": {
      "image/png": "[encoded data removed]",
      "text/plain": [
       "<Figure size 1000x500 with 1 Axes>"
      ]
     },
     "metadata": {},
     "output_type": "display_data"
    },
    {
     "name": "stdout",
     "output_type": "stream",
     "text": [
      "mu:  (10, 784)\n",
      "sigma:  (10, 784, 784)\n",
      "pi:  (10,)\n"
     ]
    }
   ],
   "source": [
    "def fit_generative_model(x,y):\n",
    "    k = 10  # labels 0,1,...,k-1\n",
    "    d = (x.shape)[1]  # number of features\n",
    "    mu = np.zeros((k,d))\n",
    "    sigma = np.zeros((k,d,d))\n",
    "    pi = np.zeros(k)\n",
    "\n",
    "    ## normalize data [0,1]\n",
    "    x = x.astype(np.float32)/255.0\n",
    "\n",
    "    ## initalize training set and validation set to find best regularization parameter c\n",
    "    ## note: we will do a 80/20 split of x,y\n",
    "    x_train, x_val, y_train, y_val = train_test_split(x, y, test_size=0.2, random_state=17)\n",
    "\n",
    "    def calc_priors_means_covariances(x,y,c):\n",
    "        ## calc priors, means, and covariances\n",
    "        if c > 0:\n",
    "            for j in range(k):\n",
    "                indices = (y==j).flatten()\n",
    "                x_j = x[indices]\n",
    "                pi[j] = x_j.shape[0]/x.shape[0]\n",
    "                mu[j] = np.mean(x_j, axis=0)\n",
    "                sigma[j] = np.cov(x_j.T) + c*np.eye(d)\n",
    "        else:\n",
    "            for j in range(k):\n",
    "                indices = (y==j).flatten()\n",
    "                x_j = x[indices]\n",
    "                pi[j] = x_j.shape[0]/x.shape[0]\n",
    "                mu[j] = np.mean(x_j, axis=0)\n",
    "                sigma[j] = np.cov(x_j.T) \n",
    "        return mu, sigma, pi\n",
    "\n",
    "    ## evaluate c using multivariate normal distribution to the training set and validation set\n",
    "    def fit(x_train,y_train,x_val,y_val,c):\n",
    "        print(f'calculating mu, sigma, pi for c: {c}')\n",
    "        mu, sigma, pi = calc_priors_means_covariances(x_train,y_train,c)\n",
    "        score = np.zeros((len(x_val),k))\n",
    "        print(f'calc score for c: {c}')\n",
    "        for label in range(0,k):\n",
    "            rv = multivariate_normal(mean=mu[label], cov=sigma[label],allow_singular=True)\n",
    "            score[:,label] = np.log(pi[label]) + rv.logpdf(x_val[:,:])\n",
    "            #for i in range(0,len(x_val)):\n",
    "                #score[i,label] = np.log(pi[label]) + rv.logpdf(x_val[i,:])\n",
    "        predictions = np.argmax(score, axis=1)\n",
    "        errors = np.sum(predictions != y_val)\n",
    "        print(f'c: {c}, errors: {errors}')\n",
    "        return errors\n",
    "\n",
    "    ## find best c\n",
    "    def find_best_c():\n",
    "        ## initialize c values to test and an empty list to store errors\n",
    "        c_values = [0,0.0001,0.001, 0.01, 0.1, 1, 10, 100, 1000]\n",
    "        errors = []\n",
    "\n",
    "        ## initialize dictionary to store errors (i.e., c_value:[], error:[])\n",
    "        c_error_dict = {'c_value':[], 'error':[]}\n",
    "        for c in c_values:\n",
    "            print(\"Calculating error for c: \", c)\n",
    "            error = fit(x_train,y_train,x_val,y_val,c)\n",
    "            errors.append(error)\n",
    "            print(\"c: \", c, \" error: \", error)\n",
    "            c_error_dict['c_value'].append(c)\n",
    "            c_error_dict['error'].append(error)\n",
    "\n",
    "        best_c = c_values[np.argmin(errors)]\n",
    "        print(\"Best c value: \", best_c)\n",
    "        return best_c, c_error_dict\n",
    "\n",
    "    ## plot c vs error\n",
    "    def plot_c_vs_error(c_error_dict):\n",
    "        plt.figure(figsize=(10, 5))\n",
    "        plt.title('c vs error')\n",
    "        plt.xlabel('c value')\n",
    "        plt.ylabel('error')\n",
    "        plt.xscale('log')\n",
    "        plt.xticks(ticks=np.log1p(c_error_dict['c_value']), labels=[str(i) for i in c_error_dict['c_value']])\n",
    "        plt.grid()\n",
    "        plt.plot(np.log1p(c_error_dict['c_value']), c_error_dict['error'], marker='o', linestyle='-')\n",
    "        plt.tight_layout()\n",
    "        plt.show()\n",
    "\n",
    "    ## calculate best c\n",
    "    best_c, c_error_dict = find_best_c()\n",
    "    \n",
    "    ## plot c vs error\n",
    "    plot_c_vs_error(c_error_dict)\n",
    "\n",
    "    ## calc mu, sigma, pi using best c\n",
    "    mu, sigma, pi = calc_priors_means_covariances(x,y,best_c)\n",
    "\n",
    "    # Halt and return parameters\n",
    "    return mu, sigma, pi\n",
    "\n",
    "mu, sigma, pi = fit_generative_model(train_data, train_labels)\n",
    "print(\"mu: \", mu.shape)\n",
    "print(\"sigma: \", sigma.shape)\n",
    "print(\"pi: \", pi.shape)"
   ]
  },
  {
   "cell_type": "markdown",
   "metadata": {},
   "source": [
    "Okay, let's try out your function. In particular, we will use **displaychar** to visualize the means of the Gaussians for the first three digits. You can try the other digits on your own."
   ]
  },
  {
   "cell_type": "code",
   "execution_count": 11,
   "metadata": {},
   "outputs": [
    {
     "data": {
      "image/png": "[encoded data removed]",
      "text/plain": [
       "<Figure size 640x480 with 1 Axes>"
      ]
     },
     "metadata": {},
     "output_type": "display_data"
    },
    {
     "data": {
      "image/png": "[encoded data removed]",
      "text/plain": [
       "<Figure size 640x480 with 1 Axes>"
      ]
     },
     "metadata": {},
     "output_type": "display_data"
    },
    {
     "data": {
      "image/png": "[encoded data removed]",
      "text/plain": [
       "<Figure size 640x480 with 1 Axes>"
      ]
     },
     "metadata": {},
     "output_type": "display_data"
    }
   ],
   "source": [
    "mu, sigma, pi = fit_generative_model(train_data, train_labels)\n",
    "\n",
    "displaychar(mu[0])\n",
    "displaychar(mu[1])\n",
    "displaychar(mu[2])"
   ]
  },
  {
   "cell_type": "markdown",
   "metadata": {},
   "source": [
    "## 3. Make predictions on test data"
   ]
  },
  {
   "cell_type": "markdown",
   "metadata": {},
   "source": [
    "Now let's see how many errors your model makes on the test set."
   ]
  },
  {
   "cell_type": "code",
   "execution_count": 21,
   "metadata": {},
   "outputs": [
    {
     "name": "stdout",
     "output_type": "stream",
     "text": [
      "Your model makes 577 errors out of 10000\n"
     ]
    }
   ],
   "source": [
    "k=10\n",
    "# Compute log Pr(label|image) for each [test image,label] pair.\n",
    "score = np.zeros((len(test_labels),k))\n",
    "for label in range(0,k):\n",
    "    rv = multivariate_normal(mean=mu[label], cov=sigma[label])\n",
    "    score[:,label] = np.log(pi[label]) + rv.logpdf(test_data[:,:])\n",
    "predictions = np.argmax(score, axis=1)\n",
    "# Finally, tally up score\n",
    "errors = np.sum(predictions != test_labels)\n",
    "print(\"Your model makes \" + str(errors) + \" errors out of 10000\")"
   ]
  },
  {
   "cell_type": "code",
   "execution_count": 25,
   "metadata": {},
   "outputs": [
    {
     "name": "stdout",
     "output_type": "stream",
     "text": [
      "predicted label: 8\n",
      "actual label: 1\n"
     ]
    },
    {
     "data": {
      "image/png": "[encoded data removed]",
      "text/plain": [
       "<Figure size 640x480 with 1 Axes>"
      ]
     },
     "metadata": {},
     "output_type": "display_data"
    },
    {
     "name": "stdout",
     "output_type": "stream",
     "text": [
      "predicted label: 7\n",
      "actual label: 9\n"
     ]
    },
    {
     "data": {
      "image/png": "[encoded data removed]",
      "text/plain": [
       "<Figure size 640x480 with 1 Axes>"
      ]
     },
     "metadata": {},
     "output_type": "display_data"
    },
    {
     "name": "stdout",
     "output_type": "stream",
     "text": [
      "predicted label: 8\n",
      "actual label: 9\n"
     ]
    },
    {
     "data": {
      "image/png": "[encoded data removed]",
      "text/plain": [
       "<Figure size 640x480 with 1 Axes>"
      ]
     },
     "metadata": {},
     "output_type": "display_data"
    },
    {
     "name": "stdout",
     "output_type": "stream",
     "text": [
      "predicted label: 8\n",
      "actual label: 9\n"
     ]
    },
    {
     "data": {
      "image/png": "[encoded data removed]",
      "text/plain": [
       "<Figure size 640x480 with 1 Axes>"
      ]
     },
     "metadata": {},
     "output_type": "display_data"
    },
    {
     "name": "stdout",
     "output_type": "stream",
     "text": [
      "predicted label: 7\n",
      "actual label: 2\n"
     ]
    },
    {
     "data": {
      "image/png": "[encoded data removed]",
      "text/plain": [
       "<Figure size 640x480 with 1 Axes>"
      ]
     },
     "metadata": {},
     "output_type": "display_data"
    }
   ],
   "source": [
    "error_data = test_data[predictions != test_labels]\n",
    "error_labels = test_labels[predictions != test_labels]\n",
    "error_predictions = predictions[predictions != test_labels]\n",
    "for i in range(5):\n",
    "    print(f'predicted label: {error_predictions[i*i]}')\n",
    "    print(f'actual label: {error_labels[i*i]}')\n",
    "    displaychar(error_data[i*i])"
   ]
  },
  {
   "cell_type": "markdown",
   "metadata": {},
   "source": [
    "## 4. Quick exercises"
   ]
  },
  {
   "cell_type": "markdown",
   "metadata": {},
   "source": [
    "*You will need to answer variants of these questions as part of this week's assignment*."
   ]
  },
  {
   "cell_type": "markdown",
   "metadata": {},
   "source": [
    "<font color=\"magenta\">Exercise 1:</font> What happens if you do not regularize the covariance matrices?\n",
    "\n"
   ]
  },
  {
   "cell_type": "markdown",
   "metadata": {},
   "source": [
    "<font color=\"magenta\">Exercise 2:</font> What happens if you set the value of `c` too high, for instance to one billion? Do you understand why this happens?"
   ]
  },
  {
   "cell_type": "markdown",
   "metadata": {},
   "source": [
    "<font color=\"magenta\">Exercise 3:</font> What value of c did you end up using? How many errors did your model make on the training set?"
   ]
  },
  {
   "cell_type": "markdown",
   "metadata": {},
   "source": [
    "<font color=\"magenta\">If you have the time</font>: We have talked about using the same regularization constant `c` for all ten classes. What about using a different value of `c` for each class? How would you go about choosing these? Can you get better performance in this way?"
   ]
  }
 ],
 "metadata": {
  "kernelspec": {
   "display_name": "ucsd",
   "language": "python",
   "name": "python3"
  },
  "language_info": {
   "codemirror_mode": {
    "name": "ipython",
    "version": 3
   },
   "file_extension": ".py",
   "mimetype": "text/x-python",
   "name": "python",
   "nbconvert_exporter": "python",
   "pygments_lexer": "ipython3",
   "version": "3.12.3"
  },
  "toc": {
   "colors": {
    "hover_highlight": "#DAA520",
    "navigate_num": "#000000",
    "navigate_text": "#333333",
    "running_highlight": "#FF0000",
    "selected_highlight": "#FFD700",
    "sidebar_border": "#EEEEEE",
    "wrapper_background": "#FFFFFF"
   },
   "moveMenuLeft": true,
   "nav_menu": {
    "height": "12px",
    "width": "252px"
   },
   "navigate_menu": true,
   "number_sections": false,
   "sideBar": true,
   "threshold": 4,
   "toc_cell": false,
   "toc_section_display": "block",
   "toc_window_display": false,
   "widenNotebook": false
  }
 },
 "nbformat": 4,
 "nbformat_minor": 1
}
