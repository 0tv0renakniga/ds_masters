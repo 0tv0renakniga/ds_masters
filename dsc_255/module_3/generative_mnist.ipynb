{
 "cells": [
  {
   "cell_type": "markdown",
   "metadata": {},
   "source": [
    "# Gaussian generative models for handwritten digit classification"
   ]
  },
  {
   "cell_type": "markdown",
   "metadata": {},
   "source": [
    "Recall that the 1-NN classifier yielded a 3.09% test error rate on the MNIST data set of handwritten digits. We will now see that a Gaussian generative model does almost as well, while being significantly faster and more compact."
   ]
  },
  {
   "cell_type": "markdown",
   "metadata": {},
   "source": [
    "## 1. Set up notebook and load in data"
   ]
  },
  {
   "cell_type": "markdown",
   "metadata": {},
   "source": [
    "As usual, we start by importing the required packages and data. For this notebook we will be using the *entire* `MNIST` dataset. The code below defines some helper functions that will load `MNIST` onto your computer."
   ]
  },
  {
   "cell_type": "code",
   "execution_count": 90,
   "metadata": {},
   "outputs": [],
   "source": [
    "%matplotlib inline\n",
    "import matplotlib.pyplot as plt \n",
    "import gzip, os, sys\n",
    "import numpy as np\n",
    "from scipy.stats import multivariate_normal\n",
    "\n",
    "if sys.version_info[0] == 2:\n",
    "    from urllib import urlretrieve\n",
    "else:\n",
    "    from urllib.request import urlretrieve"
   ]
  },
  {
   "cell_type": "code",
   "execution_count": null,
   "metadata": {},
   "outputs": [],
   "source": [
    "# Function that downloads a specified MNIST data file from Yann Le Cun's website\n",
    "#def download(filename, source='http://yann.lecun.com/exdb/mnist/'):\n",
    "def download(filename, source='https://github.com/0tv0renakniga/dsc_255_hw3_minst_data/'):\n",
    "    print(\"Downloading %s\" % filename)\n",
    "    urlretrieve(source + filename, filename)\n"
   ]
  },
  {
   "cell_type": "code",
   "execution_count": 91,
   "metadata": {},
   "outputs": [],
   "source": [
    "## new download to get data from my repo\n",
    "def download(filename):\n",
    "    url = 'https://github.com/0tv0renakniga/dsc_255_hw3_minst_data/raw/main'\n",
    "    file_url = f'{url}/{filename}'\n",
    "    cmd = f'wget -O {filename} {file_url}'\n",
    "    os.system(cmd)\n",
    "\n",
    "# Invokes download() if necessary, then reads in images\n",
    "def load_mnist_images(filename):\n",
    "    if not os.path.exists(filename):\n",
    "        download(filename)\n",
    "    with gzip.open(filename, 'rb') as f:\n",
    "        data = np.frombuffer(f.read(), np.uint8, offset=16)\n",
    "    data = data.reshape(-1,784)\n",
    "    return data\n",
    "\n",
    "def load_mnist_labels(filename):\n",
    "    if not os.path.exists(filename):\n",
    "        download(filename)\n",
    "    with gzip.open(filename, 'rb') as f:\n",
    "        data = np.frombuffer(f.read(), np.uint8, offset=8)\n",
    "    return data\n"
   ]
  },
  {
   "cell_type": "markdown",
   "metadata": {},
   "source": [
    "Now load in the training set and test set"
   ]
  },
  {
   "cell_type": "code",
   "execution_count": 48,
   "metadata": {},
   "outputs": [
    {
     "name": "stderr",
     "output_type": "stream",
     "text": [
      "--2025-04-12 22:04:33--  https://github.com/0tv0renakniga/dsc_255_hw3_minst_data/raw/main/train-images-idx3-ubyte.gz\n",
      "Resolving github.com (github.com)... 140.82.112.3\n",
      "Connecting to github.com (github.com)|140.82.112.3|:443... connected.\n",
      "HTTP request sent, awaiting response... 302 Found\n",
      "Location: https://raw.githubusercontent.com/0tv0renakniga/dsc_255_hw3_minst_data/main/train-images-idx3-ubyte.gz [following]\n",
      "--2025-04-12 22:04:34--  https://raw.githubusercontent.com/0tv0renakniga/dsc_255_hw3_minst_data/main/train-images-idx3-ubyte.gz\n",
      "Resolving raw.githubusercontent.com (raw.githubusercontent.com)... 185.199.109.133, 185.199.110.133, 185.199.108.133, ...\n",
      "Connecting to raw.githubusercontent.com (raw.githubusercontent.com)|185.199.109.133|:443... connected.\n",
      "HTTP request sent, awaiting response... 200 OK\n",
      "Length: 9912422 (9.5M) [application/octet-stream]\n",
      "Saving to: ‘train-images-idx3-ubyte.gz’\n",
      "\n",
      "     0K .......... .......... .......... .......... ..........  0% 1.86M 5s\n",
      "    50K .......... .......... .......... .......... ..........  1% 2.02M 5s\n",
      "   100K .......... .......... .......... .......... ..........  1% 8.53M 4s\n",
      "   150K .......... .......... .......... .......... ..........  2% 10.5M 3s\n",
      "   200K .......... .......... .......... .......... ..........  2% 3.75M 3s\n",
      "   250K .......... .......... .......... .......... ..........  3% 25.5M 2s\n",
      "   300K .......... .......... .......... .......... ..........  3% 9.68M 2s\n",
      "   350K .......... .......... .......... .......... ..........  4% 21.0M 2s\n",
      "   400K .......... .......... .......... .......... ..........  4% 20.3M 2s\n",
      "   450K .......... .......... .......... .......... ..........  5% 3.48M 2s\n",
      "   500K .......... .......... .......... .......... ..........  5% 11.0M 2s\n",
      "   550K .......... .......... .......... .......... ..........  6% 53.8M 2s\n",
      "   600K .......... .......... .......... .......... ..........  6% 35.0M 1s\n",
      "   650K .......... .......... .......... .......... ..........  7% 19.9M 1s\n",
      "   700K .......... .......... .......... .......... ..........  7% 22.1M 1s\n",
      "   750K .......... .......... .......... .......... ..........  8% 7.77M 1s\n",
      "   800K .......... .......... .......... .......... ..........  8% 21.8M 1s\n",
      "   850K .......... .......... .......... .......... ..........  9% 42.8M 1s\n",
      "   900K .......... .......... .......... .......... ..........  9% 19.4M 1s\n",
      "   950K .......... .......... .......... .......... .......... 10% 67.6M 1s\n",
      "  1000K .......... .......... .......... .......... .......... 10% 8.80M 1s\n",
      "  1050K .......... .......... .......... .......... .......... 11% 17.2M 1s\n",
      "  1100K .......... .......... .......... .......... .......... 11% 2.87M 1s\n",
      "  1150K .......... .......... .......... .......... .......... 12% 17.9M 1s\n",
      "  1200K .......... .......... .......... .......... .......... 12% 25.1M 1s\n",
      "  1250K .......... .......... .......... .......... .......... 13% 7.71M 1s\n",
      "  1300K .......... .......... .......... .......... .......... 13%  243M 1s\n",
      "  1350K .......... .......... .......... .......... .......... 14% 46.1M 1s\n",
      "  1400K .......... .......... .......... .......... .......... 14% 13.9M 1s\n",
      "  1450K .......... .......... .......... .......... .......... 15% 40.7M 1s\n",
      "  1500K .......... .......... .......... .......... .......... 16% 31.9M 1s\n",
      "  1550K .......... .......... .......... .......... .......... 16% 11.1M 1s\n",
      "  1600K .......... .......... .......... .......... .......... 17%  321M 1s\n",
      "  1650K .......... .......... .......... .......... .......... 17% 16.4M 1s\n",
      "  1700K .......... .......... .......... .......... .......... 18% 1.11M 1s\n",
      "  1750K .......... .......... .......... .......... .......... 18% 28.4M 1s\n",
      "  1800K .......... .......... .......... .......... .......... 19% 39.8M 1s\n",
      "  1850K .......... .......... .......... .......... .......... 19% 19.5M 1s\n",
      "  1900K .......... .......... .......... .......... .......... 20% 39.7M 1s\n",
      "  1950K .......... .......... .......... .......... .......... 20% 3.53M 1s\n",
      "  2000K .......... .......... .......... .......... .......... 21% 28.0M 1s\n",
      "  2050K .......... .......... .......... .......... .......... 21% 12.9M 1s\n",
      "  2100K .......... .......... .......... .......... .......... 22% 11.5M 1s\n",
      "  2150K .......... .......... .......... .......... .......... 22% 56.5M 1s\n",
      "  2200K .......... .......... .......... .......... .......... 23% 52.4M 1s\n",
      "  2250K .......... .......... .......... .......... .......... 23% 67.0M 1s\n",
      "  2300K .......... .......... .......... .......... .......... 24%  110M 1s\n",
      "  2350K .......... .......... .......... .......... .......... 24%  154M 1s\n",
      "  2400K .......... .......... .......... .......... .......... 25%  225M 1s\n",
      "  2450K .......... .......... .......... .......... .......... 25%  163M 1s\n",
      "  2500K .......... .......... .......... .......... .......... 26% 33.0M 1s\n",
      "  2550K .......... .......... .......... .......... .......... 26% 34.0M 1s\n",
      "  2600K .......... .......... .......... .......... .......... 27% 5.09M 1s\n",
      "  2650K .......... .......... .......... .......... .......... 27% 17.6M 1s\n",
      "  2700K .......... .......... .......... .......... .......... 28% 10.9M 1s\n",
      "  2750K .......... .......... .......... .......... .......... 28% 7.52M 1s\n",
      "  2800K .......... .......... .......... .......... .......... 29% 19.0M 1s\n",
      "  2850K .......... .......... .......... .......... .......... 29% 13.6M 1s\n",
      "  2900K .......... .......... .......... .......... .......... 30% 22.7M 1s\n",
      "  2950K .......... .......... .......... .......... .......... 30% 17.1M 1s\n",
      "  3000K .......... .......... .......... .......... .......... 31% 15.2M 1s\n",
      "  3050K .......... .......... .......... .......... .......... 32% 6.96M 1s\n",
      "  3100K .......... .......... .......... .......... .......... 32% 57.1M 1s\n",
      "  3150K .......... .......... .......... .......... .......... 33% 57.8M 1s\n",
      "  3200K .......... .......... .......... .......... .......... 33% 12.8M 1s\n",
      "  3250K .......... .......... .......... .......... .......... 34% 32.5M 1s\n",
      "  3300K .......... .......... .......... .......... .......... 34% 53.5M 1s\n",
      "  3350K .......... .......... .......... .......... .......... 35% 41.8M 1s\n",
      "  3400K .......... .......... .......... .......... .......... 35% 64.3M 1s\n",
      "  3450K .......... .......... .......... .......... .......... 36% 18.9M 1s\n",
      "  3500K .......... .......... .......... .......... .......... 36% 2.15M 1s\n",
      "  3550K .......... .......... .......... .......... .......... 37% 41.1M 1s\n",
      "  3600K .......... .......... .......... .......... .......... 37% 30.2M 1s\n",
      "  3650K .......... .......... .......... .......... .......... 38% 14.6M 1s\n",
      "  3700K .......... .......... .......... .......... .......... 38% 19.9M 1s\n",
      "  3750K .......... .......... .......... .......... .......... 39% 6.48M 1s\n",
      "  3800K .......... .......... .......... .......... .......... 39%  120M 1s\n",
      "  3850K .......... .......... .......... .......... .......... 40% 38.8M 1s\n",
      "  3900K .......... .......... .......... .......... .......... 40% 56.8M 1s\n",
      "  3950K .......... .......... .......... .......... .......... 41% 5.04M 1s\n",
      "  4000K .......... .......... .......... .......... .......... 41% 49.8M 1s\n",
      "  4050K .......... .......... .......... .......... .......... 42% 36.2M 0s\n",
      "  4100K .......... .......... .......... .......... .......... 42% 71.3M 0s\n",
      "  4150K .......... .......... .......... .......... .......... 43% 40.8M 0s\n",
      "  4200K .......... .......... .......... .......... .......... 43% 34.8M 0s\n",
      "  4250K .......... .......... .......... .......... .......... 44% 40.4M 0s\n",
      "  4300K .......... .......... .......... .......... .......... 44% 48.2M 0s\n",
      "  4350K .......... .......... .......... .......... .......... 45% 24.5M 0s\n",
      "  4400K .......... .......... .......... .......... .......... 45% 16.4M 0s\n",
      "  4450K .......... .......... .......... .......... .......... 46% 21.0M 0s\n",
      "  4500K .......... .......... .......... .......... .......... 47% 25.6M 0s\n",
      "  4550K .......... .......... .......... .......... .......... 47% 21.5M 0s\n",
      "  4600K .......... .......... .......... .......... .......... 48% 6.89M 0s\n",
      "  4650K .......... .......... .......... .......... .......... 48% 20.7M 0s\n",
      "  4700K .......... .......... .......... .......... .......... 49% 26.5M 0s\n",
      "  4750K .......... .......... .......... .......... .......... 49% 18.6M 0s\n",
      "  4800K .......... .......... .......... .......... .......... 50% 22.4M 0s\n",
      "  4850K .......... .......... .......... .......... .......... 50% 22.1M 0s\n",
      "  4900K .......... .......... .......... .......... .......... 51% 14.6M 0s\n",
      "  4950K .......... .......... .......... .......... .......... 51% 20.8M 0s\n",
      "  5000K .......... .......... .......... .......... .......... 52% 63.7M 0s\n",
      "  5050K .......... .......... .......... .......... .......... 52% 24.8M 0s\n",
      "  5100K .......... .......... .......... .......... .......... 53% 10.8M 0s\n",
      "  5150K .......... .......... .......... .......... .......... 53% 41.5M 0s\n",
      "  5200K .......... .......... .......... .......... .......... 54% 21.5M 0s\n",
      "  5250K .......... .......... .......... .......... .......... 54% 19.6M 0s\n",
      "  5300K .......... .......... .......... .......... .......... 55% 22.2M 0s\n",
      "  5350K .......... .......... .......... .......... .......... 55% 5.18M 0s\n",
      "  5400K .......... .......... .......... .......... .......... 56% 46.1M 0s\n",
      "  5450K .......... .......... .......... .......... .......... 56% 55.3M 0s\n",
      "  5500K .......... .......... .......... .......... .......... 57% 41.1M 0s\n",
      "  5550K .......... .......... .......... .......... .......... 57% 76.0M 0s\n",
      "  5600K .......... .......... .......... .......... .......... 58% 45.6M 0s\n",
      "  5650K .......... .......... .......... .......... .......... 58% 29.8M 0s\n",
      "  5700K .......... .......... .......... .......... .......... 59% 17.6M 0s\n",
      "  5750K .......... .......... .......... .......... .......... 59% 21.0M 0s\n",
      "  5800K .......... .......... .......... .......... .......... 60% 17.6M 0s\n",
      "  5850K .......... .......... .......... .......... .......... 60% 33.2M 0s\n",
      "  5900K .......... .......... .......... .......... .......... 61% 20.9M 0s\n",
      "  5950K .......... .......... .......... .......... .......... 61% 24.1M 0s\n",
      "  6000K .......... .......... .......... .......... .......... 62% 18.0M 0s\n",
      "  6050K .......... .......... .......... .......... .......... 63% 18.8M 0s\n",
      "  6100K .......... .......... .......... .......... .......... 63% 15.6M 0s\n",
      "  6150K .......... .......... .......... .......... .......... 64% 18.5M 0s\n",
      "  6200K .......... .......... .......... .......... .......... 64% 23.4M 0s\n",
      "  6250K .......... .......... .......... .......... .......... 65% 22.9M 0s\n",
      "  6300K .......... .......... .......... .......... .......... 65% 17.9M 0s\n",
      "  6350K .......... .......... .......... .......... .......... 66% 24.8M 0s\n",
      "  6400K .......... .......... .......... .......... .......... 66% 36.6M 0s\n",
      "  6450K .......... .......... .......... .......... .......... 67% 19.9M 0s\n",
      "  6500K .......... .......... .......... .......... .......... 67% 15.7M 0s\n",
      "  6550K .......... .......... .......... .......... .......... 68% 22.7M 0s\n",
      "  6600K .......... .......... .......... .......... .......... 68% 23.3M 0s\n",
      "  6650K .......... .......... .......... .......... .......... 69% 20.3M 0s\n",
      "  6700K .......... .......... .......... .......... .......... 69% 20.7M 0s\n",
      "  6750K .......... .......... .......... .......... .......... 70% 26.3M 0s\n",
      "  6800K .......... .......... .......... .......... .......... 70% 17.9M 0s\n",
      "  6850K .......... .......... .......... .......... .......... 71% 22.1M 0s\n",
      "  6900K .......... .......... .......... .......... .......... 71% 10.5M 0s\n",
      "  6950K .......... .......... .......... .......... .......... 72% 38.6M 0s\n",
      "  7000K .......... .......... .......... .......... .......... 72% 22.1M 0s\n",
      "  7050K .......... .......... .......... .......... .......... 73% 28.2M 0s\n",
      "  7100K .......... .......... .......... .......... .......... 73% 28.7M 0s\n",
      "  7150K .......... .......... .......... .......... .......... 74% 11.3M 0s\n",
      "  7200K .......... .......... .......... .......... .......... 74% 40.5M 0s\n",
      "  7250K .......... .......... .......... .......... .......... 75% 27.2M 0s\n",
      "  7300K .......... .......... .......... .......... .......... 75% 18.7M 0s\n",
      "  7350K .......... .......... .......... .......... .......... 76% 20.9M 0s\n",
      "  7400K .......... .......... .......... .......... .......... 76% 32.5M 0s\n",
      "  7450K .......... .......... .......... .......... .......... 77% 3.91M 0s\n",
      "  7500K .......... .......... .......... .......... .......... 77% 33.9M 0s\n",
      "  7550K .......... .......... .......... .......... .......... 78% 57.0M 0s\n",
      "  7600K .......... .......... .......... .......... .......... 79% 34.8M 0s\n",
      "  7650K .......... .......... .......... .......... .......... 79% 32.8M 0s\n",
      "  7700K .......... .......... .......... .......... .......... 80% 42.2M 0s\n",
      "  7750K .......... .......... .......... .......... .......... 80%  114M 0s\n",
      "  7800K .......... .......... .......... .......... .......... 81% 38.1M 0s\n",
      "  7850K .......... .......... .......... .......... .......... 81% 46.5M 0s\n",
      "  7900K .......... .......... .......... .......... .......... 82% 27.0M 0s\n",
      "  7950K .......... .......... .......... .......... .......... 82% 21.7M 0s\n",
      "  8000K .......... .......... .......... .......... .......... 83% 19.5M 0s\n",
      "  8050K .......... .......... .......... .......... .......... 83% 14.7M 0s\n",
      "  8100K .......... .......... .......... .......... .......... 84% 8.54M 0s\n",
      "  8150K .......... .......... .......... .......... .......... 84% 9.31M 0s\n",
      "  8200K .......... .......... .......... .......... .......... 85% 12.5M 0s\n",
      "  8250K .......... .......... .......... .......... .......... 85% 20.1M 0s\n",
      "  8300K .......... .......... .......... .......... .......... 86% 29.4M 0s\n",
      "  8350K .......... .......... .......... .......... .......... 86% 29.8M 0s\n",
      "  8400K .......... .......... .......... .......... .......... 87% 41.9M 0s\n",
      "  8450K .......... .......... .......... .......... .......... 87% 49.7M 0s\n",
      "  8500K .......... .......... .......... .......... .......... 88% 26.4M 0s\n",
      "  8550K .......... .......... .......... .......... .......... 88% 13.2M 0s\n",
      "  8600K .......... .......... .......... .......... .......... 89% 47.9M 0s\n",
      "  8650K .......... .......... .......... .......... .......... 89% 21.3M 0s\n",
      "  8700K .......... .......... .......... .......... .......... 90% 31.4M 0s\n",
      "  8750K .......... .......... .......... .......... .......... 90% 20.4M 0s\n",
      "  8800K .......... .......... .......... .......... .......... 91% 3.58M 0s\n",
      "  8850K .......... .......... .......... .......... .......... 91%  118M 0s\n",
      "  8900K .......... .......... .......... .......... .......... 92% 29.8M 0s\n",
      "  8950K .......... .......... .......... .......... .......... 92% 29.2M 0s\n",
      "  9000K .......... .......... .......... .......... .......... 93% 38.8M 0s\n",
      "  9050K .......... .......... .......... .......... .......... 94% 64.9M 0s\n",
      "  9100K .......... .......... .......... .......... .......... 94% 25.7M 0s\n",
      "  9150K .......... .......... .......... .......... .......... 95% 38.8M 0s\n",
      "  9200K .......... .......... .......... .......... .......... 95% 67.7M 0s\n",
      "  9250K .......... .......... .......... .......... .......... 96% 15.1M 0s\n",
      "  9300K .......... .......... .......... .......... .......... 96% 51.6M 0s\n",
      "  9350K .......... .......... .......... .......... .......... 97% 39.4M 0s\n",
      "  9400K .......... .......... .......... .......... .......... 97% 31.5M 0s\n",
      "  9450K .......... .......... .......... .......... .......... 98% 38.4M 0s\n",
      "  9500K .......... .......... .......... .......... .......... 98% 5.05M 0s\n",
      "  9550K .......... .......... .......... .......... .......... 99% 11.2M 0s\n",
      "  9600K .......... .......... .......... .......... .......... 99% 20.4M 0s\n",
      "  9650K .......... .......... ..........                      100% 35.4M=0.6s\n",
      "\n",
      "2025-04-12 22:04:34 (14.9 MB/s) - ‘train-images-idx3-ubyte.gz’ saved [9912422/9912422]\n",
      "\n",
      "--2025-04-12 22:04:35--  https://github.com/0tv0renakniga/dsc_255_hw3_minst_data/raw/main/train-labels-idx1-ubyte.gz\n",
      "Resolving github.com (github.com)... 140.82.114.3\n",
      "Connecting to github.com (github.com)|140.82.114.3|:443... connected.\n",
      "HTTP request sent, awaiting response... 302 Found\n",
      "Location: https://raw.githubusercontent.com/0tv0renakniga/dsc_255_hw3_minst_data/main/train-labels-idx1-ubyte.gz [following]\n",
      "--2025-04-12 22:04:35--  https://raw.githubusercontent.com/0tv0renakniga/dsc_255_hw3_minst_data/main/train-labels-idx1-ubyte.gz\n",
      "Resolving raw.githubusercontent.com (raw.githubusercontent.com)... 185.199.109.133, 185.199.110.133, 185.199.108.133, ...\n",
      "Connecting to raw.githubusercontent.com (raw.githubusercontent.com)|185.199.109.133|:443... connected.\n",
      "HTTP request sent, awaiting response... 200 OK\n",
      "Length: 28881 (28K) [application/octet-stream]\n",
      "Saving to: ‘train-labels-idx1-ubyte.gz’\n",
      "\n",
      "     0K .......... .......... ........                        100% 3.57M=0.008s\n",
      "\n",
      "2025-04-12 22:04:35 (3.57 MB/s) - ‘train-labels-idx1-ubyte.gz’ saved [28881/28881]\n",
      "\n",
      "--2025-04-12 22:04:35--  https://github.com/0tv0renakniga/dsc_255_hw3_minst_data/raw/main/t10k-images-idx3-ubyte.gz\n",
      "Resolving github.com (github.com)... 140.82.112.3\n",
      "Connecting to github.com (github.com)|140.82.112.3|:443... connected.\n",
      "HTTP request sent, awaiting response... 302 Found\n",
      "Location: https://raw.githubusercontent.com/0tv0renakniga/dsc_255_hw3_minst_data/main/t10k-images-idx3-ubyte.gz [following]\n",
      "--2025-04-12 22:04:36--  https://raw.githubusercontent.com/0tv0renakniga/dsc_255_hw3_minst_data/main/t10k-images-idx3-ubyte.gz\n",
      "Resolving raw.githubusercontent.com (raw.githubusercontent.com)... 185.199.110.133, 185.199.108.133, 185.199.111.133, ...\n",
      "Connecting to raw.githubusercontent.com (raw.githubusercontent.com)|185.199.110.133|:443... connected.\n",
      "HTTP request sent, awaiting response... 200 OK\n",
      "Length: 1648877 (1.6M) [application/octet-stream]\n",
      "Saving to: ‘t10k-images-idx3-ubyte.gz’\n",
      "\n",
      "     0K .......... .......... .......... .......... ..........  3% 1.59M 1s\n",
      "    50K .......... .......... .......... .......... ..........  6% 2.35M 1s\n",
      "   100K .......... .......... .......... .......... ..........  9% 9.51M 1s\n",
      "   150K .......... .......... .......... .......... .......... 12% 9.13M 0s\n",
      "   200K .......... .......... .......... .......... .......... 15% 2.96M 0s\n",
      "   250K .......... .......... .......... .......... .......... 18% 26.4M 0s\n",
      "   300K .......... .......... .......... .......... .......... 21% 16.2M 0s\n",
      "   350K .......... .......... .......... .......... .......... 24% 13.9M 0s\n",
      "   400K .......... .......... .......... .......... .......... 27% 16.9M 0s\n",
      "   450K .......... .......... .......... .......... .......... 31% 21.2M 0s\n",
      "   500K .......... .......... .......... .......... .......... 34% 3.29M 0s\n",
      "   550K .......... .......... .......... .......... .......... 37% 21.6M 0s\n",
      "   600K .......... .......... .......... .......... .......... 40% 17.6M 0s\n",
      "   650K .......... .......... .......... .......... .......... 43% 30.3M 0s\n",
      "   700K .......... .......... .......... .......... .......... 46% 20.3M 0s\n",
      "   750K .......... .......... .......... .......... .......... 49% 32.1M 0s\n",
      "   800K .......... .......... .......... .......... .......... 52% 15.1M 0s\n",
      "   850K .......... .......... .......... .......... .......... 55% 15.6M 0s\n",
      "   900K .......... .......... .......... .......... .......... 58% 50.7M 0s\n",
      "   950K .......... .......... .......... .......... .......... 62% 21.9M 0s\n",
      "  1000K .......... .......... .......... .......... .......... 65% 18.8M 0s\n",
      "  1050K .......... .......... .......... .......... .......... 68% 16.4M 0s\n",
      "  1100K .......... .......... .......... .......... .......... 71% 22.1M 0s\n",
      "  1150K .......... .......... .......... .......... .......... 74% 35.9M 0s\n",
      "  1200K .......... .......... .......... .......... .......... 77% 17.8M 0s\n",
      "  1250K .......... .......... .......... .......... .......... 80% 22.2M 0s\n",
      "  1300K .......... .......... .......... .......... .......... 83% 19.4M 0s\n",
      "  1350K .......... .......... .......... .......... .......... 86% 25.2M 0s\n",
      "  1400K .......... .......... .......... .......... .......... 90% 21.9M 0s\n",
      "  1450K .......... .......... .......... .......... .......... 93% 22.9M 0s\n",
      "  1500K .......... .......... .......... .......... .......... 96% 19.0M 0s\n",
      "  1550K .......... .......... .......... .......... .......... 99% 21.7M 0s\n",
      "  1600K ..........                                            100% 19.1T=0.2s\n",
      "\n",
      "2025-04-12 22:04:36 (10.2 MB/s) - ‘t10k-images-idx3-ubyte.gz’ saved [1648877/1648877]\n",
      "\n",
      "--2025-04-12 22:04:36--  https://github.com/0tv0renakniga/dsc_255_hw3_minst_data/raw/main/t10k-labels-idx1-ubyte.gz\n",
      "Resolving github.com (github.com)... 140.82.114.3\n",
      "Connecting to github.com (github.com)|140.82.114.3|:443... connected.\n",
      "HTTP request sent, awaiting response... 302 Found\n",
      "Location: https://raw.githubusercontent.com/0tv0renakniga/dsc_255_hw3_minst_data/main/t10k-labels-idx1-ubyte.gz [following]\n",
      "--2025-04-12 22:04:36--  https://raw.githubusercontent.com/0tv0renakniga/dsc_255_hw3_minst_data/main/t10k-labels-idx1-ubyte.gz\n",
      "Resolving raw.githubusercontent.com (raw.githubusercontent.com)... 185.199.110.133, 185.199.111.133, 185.199.108.133, ...\n",
      "Connecting to raw.githubusercontent.com (raw.githubusercontent.com)|185.199.110.133|:443... connected.\n",
      "HTTP request sent, awaiting response... 200 OK\n",
      "Length: 4542 (4.4K) [application/octet-stream]\n",
      "Saving to: ‘t10k-labels-idx1-ubyte.gz’\n",
      "\n",
      "     0K ....                                                  100% 4.34M=0.001s\n",
      "\n",
      "2025-04-12 22:04:37 (4.34 MB/s) - ‘t10k-labels-idx1-ubyte.gz’ saved [4542/4542]\n",
      "\n"
     ]
    }
   ],
   "source": [
    "## Load the training set\n",
    "train_data = load_mnist_images('train-images-idx3-ubyte.gz')\n",
    "train_labels = load_mnist_labels('train-labels-idx1-ubyte.gz')\n",
    "\n",
    "## Load the testing set\n",
    "test_data = load_mnist_images('t10k-images-idx3-ubyte.gz')\n",
    "test_labels = load_mnist_labels('t10k-labels-idx1-ubyte.gz')"
   ]
  },
  {
   "cell_type": "markdown",
   "metadata": {},
   "source": [
    "The function **displaychar** shows a single MNIST digit. To do this, it first has to reshape the 784-dimensional vector into a 28x28 image."
   ]
  },
  {
   "cell_type": "code",
   "execution_count": 49,
   "metadata": {},
   "outputs": [],
   "source": [
    "def displaychar(image):\n",
    "    plt.imshow(np.reshape(image, (28,28)), cmap=plt.cm.gray)\n",
    "    plt.axis('off')\n",
    "    plt.show()"
   ]
  },
  {
   "cell_type": "code",
   "execution_count": 50,
   "metadata": {},
   "outputs": [
    {
     "data": {
      "image/png": "[encoded data removed]",
      "text/plain": [
       "<Figure size 640x480 with 1 Axes>"
      ]
     },
     "metadata": {},
     "output_type": "display_data"
    }
   ],
   "source": [
    "displaychar(train_data[58])"
   ]
  },
  {
   "cell_type": "markdown",
   "metadata": {},
   "source": [
    "The training set consists of 60,000 images. Thus `train_data` should be a 60000x784 array while `train_labels` should be 60000x1. Let's check."
   ]
  },
  {
   "cell_type": "code",
   "execution_count": 51,
   "metadata": {},
   "outputs": [
    {
     "data": {
      "text/plain": [
       "((60000, 784), (60000,))"
      ]
     },
     "execution_count": 51,
     "metadata": {},
     "output_type": "execute_result"
    }
   ],
   "source": [
    "train_data.shape, train_labels.shape"
   ]
  },
  {
   "cell_type": "markdown",
   "metadata": {},
   "source": [
    "## 2. Fit a Gaussian generative model to the training data"
   ]
  },
  {
   "cell_type": "markdown",
   "metadata": {},
   "source": [
    "**<font color=\"magenta\">For you to do:</font>** Define a function, **fit_generative_model**, that takes as input a training set (data `x` and labels `y`) and fits a Gaussian generative model to it. It should return the parameters of this generative model; for each label `j = 0,1,...,9`, we have:\n",
    "* `pi[j]`: the frequency of that label\n",
    "* `mu[j]`: the 784-dimensional mean vector\n",
    "* `sigma[j]`: the 784x784 covariance matrix\n",
    "\n",
    "This means that `pi` is 10x1, `mu` is 10x784, and `sigma` is 10x784x784.\n",
    "\n",
    "We have already seen how to fit a Gaussian generative model in the Winery example, but now there is an added ingredient. <font color=\"magenta\">The empirical covariances are very likely to be singular (or close to singular), which means that we won't be able to do calculations with them</font>. Thus it is important to **regularize** these matrices. The standard way of doing this is to add `cI` to them, where `c` is some constant and `I` is the 784-dimensional identity matrix. (To put it another way, we compute the empirical covariances and then increase their diagonal entries by some constant `c`.)\n",
    "\n",
    "This modification is guaranteed to yield covariance matrices that are non-singular, for any `c > 0`, no matter how small. But this doesn't mean that we should make `c` as small as possible. Indeed, `c` is now a parameter, and by setting it appropriately, we can improve the performance of the model. We will study **regularization** in greater detail over the coming weeks.\n",
    "\n",
    "Your routine needs to choose a good setting of `c`. Crucially, this needs to be done using the training set alone. So you might try setting aside part of the training set as a validation set, or using some kind of cross-validation."
   ]
  },
  {
   "cell_type": "code",
   "execution_count": 62,
   "metadata": {},
   "outputs": [],
   "source": [
    "def fit_generative_model(x,y):\n",
    "    k = 10  # labels 0,1,...,k-1\n",
    "    d = (x.shape)[1]  # number of features\n",
    "    mu = np.zeros((k,d))\n",
    "    sigma = np.zeros((k,d,d))\n",
    "    pi = np.zeros(k)\n",
    "    ## calc priors, means, and covariances\n",
    "    for j in range(k):\n",
    "        indices = (y==j).flatten()\n",
    "        x_j = x[indices]\n",
    "        pi[j] = x_j.shape[0]/x.shape[0]\n",
    "        mu[j] = np.mean(x_j, axis=0)\n",
    "        sigma[j] = np.cov(x_j.T)\n",
    "    # Halt and return parameters\n",
    "    return mu, sigma, pi"
   ]
  },
  {
   "cell_type": "code",
   "execution_count": null,
   "metadata": {},
   "outputs": [
    {
     "name": "stderr",
     "output_type": "stream",
     "text": [
      "<>:51: SyntaxWarning: invalid escape sequence '\\d'\n",
      "<>:51: SyntaxWarning: invalid escape sequence '\\d'\n",
      "/tmp/ipykernel_231802/3643532327.py:51: SyntaxWarning: invalid escape sequence '\\d'\n",
      "  \"\"\"\n"
     ]
    }
   ],
   "source": [
    "def fit_generative_model(x, y):\n",
    "    \"\"\"\n",
    "    Fit a Gaussian generative model to the data with optimized performance.\n",
    "    \n",
    "    Parameters:\n",
    "    -----------\n",
    "    x : numpy.ndarray\n",
    "        Training data of shape (n_samples, n_features)\n",
    "    y : numpy.ndarray\n",
    "        Training labels of shape (n_samples,)\n",
    "        \n",
    "    Returns:\n",
    "    --------\n",
    "    mu : numpy.ndarray\n",
    "        Mean vectors for each class, shape (k, d)\n",
    "    sigma : numpy.ndarray\n",
    "        Covariance matrices for each class, shape (k, d, d)\n",
    "    pi : numpy.ndarray\n",
    "        Prior probabilities for each class, shape (k,)\n",
    "    \"\"\"\n",
    "    k = 10  # labels 0,1,...,k-1\n",
    "    d = x.shape[1]  # number of features (784 for MNIST)\n",
    "    n = x.shape[0]  # number of samples\n",
    "    \n",
    "    # Initialize parameters\n",
    "    mu = np.zeros((k, d))\n",
    "    sigma = np.zeros((k, d, d))\n",
    "    pi = np.zeros(k)\n",
    "\n",
    "    #### you code here\n",
    "    \"\"\"\n",
    "    ------------------------------------------------------------\n",
    "    STEP 1: calc pi, mu sigma\n",
    "    ------------------------------------------------------------\n",
    "    loop over all unique labels 0,1,...,9(i.e n to k-1)\n",
    "    calc indexes where label is equal to the unique label\n",
    "    calc pi(class prob) for every unique label\n",
    "    calc mu(mean vector) for every unique label\n",
    "    calc sigma(covariance) for every unique labels\n",
    "        *transform since we want to row to rep features\n",
    "        *note: this is empirical covariance\n",
    "    * note: this code return correct dimensions\n",
    "    ------------------------------------------------------------\n",
    "    \"\"\"\n",
    "    for j in range(k):\n",
    "        index =  (y==j).flatten()\n",
    "        pi[j] = np.mean(j==y)\n",
    "        mu[j] = np.mean(x[index], axis=0)\n",
    "        sigma[j] = np.cov(x[index].T)\n",
    "\n",
    "    \"\"\"\n",
    "    ------------------------------------------------------------\n",
    "    STEP 2: find best c for training data\n",
    "    ------------------------------------------------------------\n",
    "    initialize values for c to test(c_values)\n",
    "    Maybe:: split training data(x,y) 80/20 \n",
    "        * do this since we don't want to overtrain and optimize \n",
    "        our c for just the training data\n",
    "    evaluate performance of each c_val in c_values\n",
    "    select c_val where errors are minimized\n",
    "\n",
    "    thought process:\n",
    "    fit to this such that our prediction given a sample is a \n",
    "    specific label moreover, we call this:\n",
    "                \\delta_k(x)=argmax_k p(x|k)p(k)\n",
    "    or where \\delta_k(x) is the maximum will return the predicted class label\n",
    "\n",
    "    define \\delta_k(x) as*:\n",
    "    \\delta_k(x) = x^T *\\Sigma_k^{-1}*\\mu_k - 0.5*(\\mu_k^T)*\\Sigma_k^{-1}*\\mu_k + \\log(\\pi_k))\n",
    "    -pi_k is the prior probability of class k(i.e. label frequency)\n",
    "    -x is the sample\n",
    "    -\\mu_k is the mean vector for class k(i.e. what does the average sample look like for each label)\n",
    "    -sigma_k is the covariance matrix for class k(i.e. how do the samples vary around the mean)\n",
    "    -w^T is the transform of a vector w\n",
    "    -np.log is the natural log\n",
    "\n",
    "    *pg.151 {book name} eq'n: 4.24\n",
    "    ------------------------------------------------------------\n",
    "    \"\"\"\n",
    "\n",
    "\n",
    "    ## initialize c values to test\n",
    "    c_values = [0.0001,0.001,0.01,0.1,1,10,100,1000,10000]\n",
    "    \n",
    "    ## find best c\n",
    "    best_c = find_best_regularization(k,d,x,y,c_values)\n",
    "\n",
    "    ## regularize sigma\n",
    "    for j in range(k):\n",
    "        sigma[j] = sigma[j] + best_c*np.eye(d)\n",
    "\n",
    "    return(mu,sigma,pi)\n",
    "\n",
    "def find_best_regularization(k,d,x,y,c_values):\n",
    "    ## import train_test_split and accuracy_score from sklearn\n",
    "    from sklearn.model_selection import train_test_split\n",
    "    from sklearn.metrics import accuracy_score\n",
    "    ## initialize train/test(80/20) to evaluate best c \n",
    "    X_train, X_test, y_train, y_test = train_test_split(x, y, test_size=0.2, random_state=33)\n",
    "\n",
    "    ## initialize best c\n",
    "    best_c = None\n",
    "    best_accuracy = 0\n",
    "\n",
    "    ## initialize mu,sigma,pi, and I to iterate over c_values\n",
    "    mu = np.zeros((k,d))\n",
    "    sigma = np.zeros((k,d,d))\n",
    "    pi = np.zeros(k)\n",
    "    I = np.eye(d)\n",
    "\n",
    "    ## initialize y_pred\n",
    "    y_pred = np.zeros(X_test.shape[0])\n",
    "\n",
    "    ## loop over c_values\n",
    "    for c_val in c_values:\n",
    "        ## calc sigma,mu,pi\n",
    "        ## note sigma is regularized covariance matrix now\n",
    "        for j in range(k):\n",
    "            index =  (y_train==j).flatten()\n",
    "            pi[j] = np.mean(j==y_train)\n",
    "            mu[j] = np.mean(X_train[index], axis=0)\n",
    "            sigma[j] = np.cov(X_train[index].T)+ c_val*I\n",
    "        \n",
    "        ## calc prediction\n",
    "        for i in range(X_test.shape[0]):\n",
    "            max_val = -np.inf\n",
    "            for j in range(k):\n",
    "                # classifiy each prediction using \\delta_k(x) expression\n",
    "                delta_k = np.dot(X_test[i], np.linalg.inv(sigma[j])).dot(mu[j]) - 0.5*(mu[j].T).dot(np.linalg.inv(sigma[j])).dot(mu[j]) + np.log(pi[j])\n",
    "                if delta_k > max_val:\n",
    "                    max_val = delta_k\n",
    "                    y_pred[i] = j\n",
    "\n",
    "        ## calc accuracy\n",
    "        accuracy = accuracy_score(y_test, y_pred)\n",
    "        if accuracy > best_accuracy:\n",
    "            best_accuracy = accuracy\n",
    "            best_c = c_val\n",
    "    print(f\"Best c value: {best_c} with accuracy: {best_accuracy}\")\n",
    "    return(best_c)\n"
   ]
  },
  {
   "cell_type": "markdown",
   "metadata": {},
   "source": [
    "Okay, let's try out your function. In particular, we will use **displaychar** to visualize the means of the Gaussians for the first three digits. You can try the other digits on your own."
   ]
  },
  {
   "cell_type": "code",
   "execution_count": 112,
   "metadata": {},
   "outputs": [
    {
     "name": "stderr",
     "output_type": "stream",
     "text": [
      "/tmp/ipykernel_231802/3643532327.py:51: SyntaxWarning: invalid escape sequence '\\d'\n",
      "  \"\"\"\n"
     ]
    },
    {
     "ename": "KeyboardInterrupt",
     "evalue": "",
     "output_type": "error",
     "traceback": [
      "\u001b[31m---------------------------------------------------------------------------\u001b[39m",
      "\u001b[31mKeyboardInterrupt\u001b[39m                         Traceback (most recent call last)",
      "\u001b[36mCell\u001b[39m\u001b[36m \u001b[39m\u001b[32mIn[112]\u001b[39m\u001b[32m, line 1\u001b[39m\n\u001b[32m----> \u001b[39m\u001b[32m1\u001b[39m mu, sigma, pi = \u001b[43mfit_generative_model\u001b[49m\u001b[43m(\u001b[49m\u001b[43mtrain_data\u001b[49m\u001b[43m,\u001b[49m\u001b[43m \u001b[49m\u001b[43mtrain_labels\u001b[49m\u001b[43m)\u001b[49m\n\u001b[32m      3\u001b[39m displaychar(mu[\u001b[32m0\u001b[39m])\n\u001b[32m      4\u001b[39m displaychar(mu[\u001b[32m1\u001b[39m])\n",
      "\u001b[36mCell\u001b[39m\u001b[36m \u001b[39m\u001b[32mIn[111]\u001b[39m\u001b[32m, line 86\u001b[39m, in \u001b[36mfit_generative_model\u001b[39m\u001b[34m(x, y)\u001b[39m\n\u001b[32m     83\u001b[39m c_values = [\u001b[32m0.0001\u001b[39m,\u001b[32m0.001\u001b[39m,\u001b[32m0.01\u001b[39m,\u001b[32m0.1\u001b[39m,\u001b[32m1\u001b[39m,\u001b[32m10\u001b[39m,\u001b[32m100\u001b[39m,\u001b[32m1000\u001b[39m,\u001b[32m10000\u001b[39m]\n\u001b[32m     85\u001b[39m \u001b[38;5;66;03m## find best c\u001b[39;00m\n\u001b[32m---> \u001b[39m\u001b[32m86\u001b[39m best_c = \u001b[43mfind_best_regularization\u001b[49m\u001b[43m(\u001b[49m\u001b[43mk\u001b[49m\u001b[43m,\u001b[49m\u001b[43md\u001b[49m\u001b[43m,\u001b[49m\u001b[43mx\u001b[49m\u001b[43m,\u001b[49m\u001b[43my\u001b[49m\u001b[43m,\u001b[49m\u001b[43mc_values\u001b[49m\u001b[43m)\u001b[49m\n\u001b[32m     88\u001b[39m \u001b[38;5;66;03m## regularize sigma\u001b[39;00m\n\u001b[32m     89\u001b[39m \u001b[38;5;28;01mfor\u001b[39;00m j \u001b[38;5;129;01min\u001b[39;00m \u001b[38;5;28mrange\u001b[39m(k):\n",
      "\u001b[36mCell\u001b[39m\u001b[36m \u001b[39m\u001b[32mIn[111]\u001b[39m\u001b[32m, line 129\u001b[39m, in \u001b[36mfind_best_regularization\u001b[39m\u001b[34m(k, d, x, y, c_values)\u001b[39m\n\u001b[32m    126\u001b[39m max_val = -np.inf\n\u001b[32m    127\u001b[39m \u001b[38;5;28;01mfor\u001b[39;00m j \u001b[38;5;129;01min\u001b[39;00m \u001b[38;5;28mrange\u001b[39m(k):\n\u001b[32m    128\u001b[39m     \u001b[38;5;66;03m# classifiy each prediction using \\delta_k(x) expression\u001b[39;00m\n\u001b[32m--> \u001b[39m\u001b[32m129\u001b[39m     delta_k = np.dot(X_test[i], np.linalg.inv(sigma[j])).dot(mu[j]) - \u001b[32m0.5\u001b[39m*(mu[j].T).dot(\u001b[43mnp\u001b[49m\u001b[43m.\u001b[49m\u001b[43mlinalg\u001b[49m\u001b[43m.\u001b[49m\u001b[43minv\u001b[49m\u001b[43m(\u001b[49m\u001b[43msigma\u001b[49m\u001b[43m[\u001b[49m\u001b[43mj\u001b[49m\u001b[43m]\u001b[49m\u001b[43m)\u001b[49m).dot(mu[j]) + np.log(pi[j])\n\u001b[32m    130\u001b[39m     \u001b[38;5;28;01mif\u001b[39;00m delta_k > max_val:\n\u001b[32m    131\u001b[39m         max_val = delta_k\n",
      "\u001b[36mFile \u001b[39m\u001b[32m~/ucsd/lib/python3.12/site-packages/numpy/linalg/_linalg.py:609\u001b[39m, in \u001b[36minv\u001b[39m\u001b[34m(a)\u001b[39m\n\u001b[32m    606\u001b[39m signature = \u001b[33m'\u001b[39m\u001b[33mD->D\u001b[39m\u001b[33m'\u001b[39m \u001b[38;5;28;01mif\u001b[39;00m isComplexType(t) \u001b[38;5;28;01melse\u001b[39;00m \u001b[33m'\u001b[39m\u001b[33md->d\u001b[39m\u001b[33m'\u001b[39m\n\u001b[32m    607\u001b[39m \u001b[38;5;28;01mwith\u001b[39;00m errstate(call=_raise_linalgerror_singular, invalid=\u001b[33m'\u001b[39m\u001b[33mcall\u001b[39m\u001b[33m'\u001b[39m,\n\u001b[32m    608\u001b[39m               over=\u001b[33m'\u001b[39m\u001b[33mignore\u001b[39m\u001b[33m'\u001b[39m, divide=\u001b[33m'\u001b[39m\u001b[33mignore\u001b[39m\u001b[33m'\u001b[39m, under=\u001b[33m'\u001b[39m\u001b[33mignore\u001b[39m\u001b[33m'\u001b[39m):\n\u001b[32m--> \u001b[39m\u001b[32m609\u001b[39m     ainv = \u001b[43m_umath_linalg\u001b[49m\u001b[43m.\u001b[49m\u001b[43minv\u001b[49m\u001b[43m(\u001b[49m\u001b[43ma\u001b[49m\u001b[43m,\u001b[49m\u001b[43m \u001b[49m\u001b[43msignature\u001b[49m\u001b[43m=\u001b[49m\u001b[43msignature\u001b[49m\u001b[43m)\u001b[49m\n\u001b[32m    610\u001b[39m \u001b[38;5;28;01mreturn\u001b[39;00m wrap(ainv.astype(result_t, copy=\u001b[38;5;28;01mFalse\u001b[39;00m))\n",
      "\u001b[31mKeyboardInterrupt\u001b[39m: "
     ]
    }
   ],
   "source": [
    "mu, sigma, pi = fit_generative_model(train_data, train_labels)\n",
    "\n",
    "displaychar(mu[0])\n",
    "displaychar(mu[1])\n",
    "displaychar(mu[2])"
   ]
  },
  {
   "cell_type": "markdown",
   "metadata": {},
   "source": [
    "## 3. Make predictions on test data"
   ]
  },
  {
   "cell_type": "markdown",
   "metadata": {},
   "source": [
    "Now let's see how many errors your model makes on the test set."
   ]
  },
  {
   "cell_type": "code",
   "execution_count": null,
   "metadata": {},
   "outputs": [
    {
     "name": "stdout",
     "output_type": "stream",
     "text": [
      "Your model makes 806 errors out of 10000\n"
     ]
    }
   ],
   "source": [
    "k=10\n",
    "# Compute log Pr(label|image) for each [test image,label] pair.\n",
    "score = np.zeros((len(test_labels),k))\n",
    "for label in range(0,k):\n",
    "    rv = multivariate_normal(mean=mu[label], cov=sigma[label])\n",
    "    for i in range(0,len(test_labels)):\n",
    "       score[i,label] = np.log(pi[label]) + rv.logpdf(test_data[i,:])\n",
    "predictions = np.argmax(score, axis=1)\n",
    "# Finally, tally up score\n",
    "errors = np.sum(predictions != test_labels)\n",
    "print(\"Your model makes \" + str(errors) + \" errors out of 10000\")"
   ]
  },
  {
   "cell_type": "code",
   "execution_count": 106,
   "metadata": {},
   "outputs": [
    {
     "name": "stdout",
     "output_type": "stream",
     "text": [
      "label is 5\n",
      "training data is:\n",
      "(784,)\n",
      "  0   0   0   0   0   0   0   0   0   0   0   0   0   0   0   0   0   0   0   0   0   0   0   0   0   0   0   0 \n",
      "  0   0   0   0   0   0   0   0   0   0   0   0   0   0   0   0   0   0   0   0   0   0   0   0   0   0   0   0 \n",
      "  0   0   0   0   0   0   0   0   0   0   0   0   0   0   0   0   0   0   0   0   0   0   0   0   0   0   0   0 \n",
      "  0   0   0   0   0   0   0   0   0   0   0   0   0   0   0   0   0   0   0   0   0   0   0   0   0   0   0   0 \n",
      "  0   0   0   0   0   0   0   0   0   0   0   0   0   0   0   0   0   0   0   0   0   0   0   0   0   0   0   0 \n",
      "  0   0   0   0   0   0   0   0   0   0   0   0   3  18  18  18 126 136 175  26 166 255 247 127   0   0   0   0 \n",
      "  0   0   0   0   0   0   0   0  30  36  94 154 170 253 253 253 253 253 225 172 253 242 195  64   0   0   0   0 \n",
      "  0   0   0   0   0   0   0  49 238 253 253 253 253 253 253 253 253 251  93  82  82  56  39   0   0   0   0   0 \n",
      "  0   0   0   0   0   0   0  18 219 253 253 253 253 253 198 182 247 241   0   0   0   0   0   0   0   0   0   0 \n",
      "  0   0   0   0   0   0   0   0  80 156 107 253 253 205  11   0  43 154   0   0   0   0   0   0   0   0   0   0 \n",
      "  0   0   0   0   0   0   0   0   0  14   1 154 253  90   0   0   0   0   0   0   0   0   0   0   0   0   0   0 \n",
      "  0   0   0   0   0   0   0   0   0   0   0 139 253 190   2   0   0   0   0   0   0   0   0   0   0   0   0   0 \n",
      "  0   0   0   0   0   0   0   0   0   0   0  11 190 253  70   0   0   0   0   0   0   0   0   0   0   0   0   0 \n",
      "  0   0   0   0   0   0   0   0   0   0   0   0  35 241 225 160 108   1   0   0   0   0   0   0   0   0   0   0 \n",
      "  0   0   0   0   0   0   0   0   0   0   0   0   0  81 240 253 253 119  25   0   0   0   0   0   0   0   0   0 \n",
      "  0   0   0   0   0   0   0   0   0   0   0   0   0   0  45 186 253 253 150  27   0   0   0   0   0   0   0   0 \n",
      "  0   0   0   0   0   0   0   0   0   0   0   0   0   0   0  16  93 252 253 187   0   0   0   0   0   0   0   0 \n",
      "  0   0   0   0   0   0   0   0   0   0   0   0   0   0   0   0   0 249 253 249  64   0   0   0   0   0   0   0 \n",
      "  0   0   0   0   0   0   0   0   0   0   0   0   0   0  46 130 183 253 253 207   2   0   0   0   0   0   0   0 \n",
      "  0   0   0   0   0   0   0   0   0   0   0   0  39 148 229 253 253 253 250 182   0   0   0   0   0   0   0   0 \n",
      "  0   0   0   0   0   0   0   0   0   0  24 114 221 253 253 253 253 201  78   0   0   0   0   0   0   0   0   0 \n",
      "  0   0   0   0   0   0   0   0  23  66 213 253 253 253 253 198  81   2   0   0   0   0   0   0   0   0   0   0 \n",
      "  0   0   0   0   0   0  18 171 219 253 253 253 253 195  80   9   0   0   0   0   0   0   0   0   0   0   0   0 \n",
      "  0   0   0   0  55 172 226 253 253 253 253 244 133  11   0   0   0   0   0   0   0   0   0   0   0   0   0   0 \n",
      "  0   0   0   0 136 253 253 253 212 135 132  16   0   0   0   0   0   0   0   0   0   0   0   0   0   0   0   0 \n",
      "  0   0   0   0   0   0   0   0   0   0   0   0   0   0   0   0   0   0   0   0   0   0   0   0   0   0   0   0 \n",
      "  0   0   0   0   0   0   0   0   0   0   0   0   0   0   0   0   0   0   0   0   0   0   0   0   0   0   0   0 \n",
      "  0   0   0   0   0   0   0   0   0   0   0   0   0   0   0   0   0   0   0   0   0   0   0   0   0   0   0   0 \n"
     ]
    },
    {
     "data": {
      "image/png": "[encoded data removed]",
      "text/plain": [
       "<Figure size 640x480 with 1 Axes>"
      ]
     },
     "metadata": {},
     "output_type": "display_data"
    }
   ],
   "source": [
    "print(f'label is {train_labels[0]}')\n",
    "print(f'training data is:')\n",
    "print(train_data[0,:].shape)\n",
    "rs = train_data[0,:].reshape(28,28)\n",
    "for i in range(28):\n",
    "    for j in range(28):\n",
    "        #print(rs[i,j], end=' ')\n",
    "        if len(str(rs[i,j])) == 1:\n",
    "            w = '  ' + str(rs[i,j])\n",
    "            print(w, end=' ')\n",
    "        elif len(str(rs[i,j])) == 2:\n",
    "            w = ' ' + str(rs[i,j])\n",
    "            print(w, end=' ')\n",
    "        else:\n",
    "            print(str(rs[i,j]), end=' ')\n",
    "    print()\n",
    "displaychar(train_data[0])\n"
   ]
  },
  {
   "cell_type": "markdown",
   "metadata": {},
   "source": [
    "## 4. Quick exercises"
   ]
  },
  {
   "cell_type": "markdown",
   "metadata": {},
   "source": [
    "*You will need to answer variants of these questions as part of this week's assignment*."
   ]
  },
  {
   "cell_type": "markdown",
   "metadata": {},
   "source": [
    "<font color=\"magenta\">Exercise 1:</font> What happens if you do not regularize the covariance matrices?\n",
    "\n"
   ]
  },
  {
   "cell_type": "markdown",
   "metadata": {},
   "source": [
    "<font color=\"magenta\">Exercise 2:</font> What happens if you set the value of `c` too high, for instance to one billion? Do you understand why this happens?"
   ]
  },
  {
   "cell_type": "markdown",
   "metadata": {},
   "source": [
    "<font color=\"magenta\">Exercise 3:</font> What value of c did you end up using? How many errors did your model make on the training set?"
   ]
  },
  {
   "cell_type": "markdown",
   "metadata": {},
   "source": [
    "<font color=\"magenta\">If you have the time</font>: We have talked about using the same regularization constant `c` for all ten classes. What about using a different value of `c` for each class? How would you go about choosing these? Can you get better performance in this way?"
   ]
  }
 ],
 "metadata": {
  "kernelspec": {
   "display_name": "ucsd",
   "language": "python",
   "name": "python3"
  },
  "language_info": {
   "codemirror_mode": {
    "name": "ipython",
    "version": 3
   },
   "file_extension": ".py",
   "mimetype": "text/x-python",
   "name": "python",
   "nbconvert_exporter": "python",
   "pygments_lexer": "ipython3",
   "version": "3.12.3"
  },
  "toc": {
   "colors": {
    "hover_highlight": "#DAA520",
    "navigate_num": "#000000",
    "navigate_text": "#333333",
    "running_highlight": "#FF0000",
    "selected_highlight": "#FFD700",
    "sidebar_border": "#EEEEEE",
    "wrapper_background": "#FFFFFF"
   },
   "moveMenuLeft": true,
   "nav_menu": {
    "height": "12px",
    "width": "252px"
   },
   "navigate_menu": true,
   "number_sections": false,
   "sideBar": true,
   "threshold": 4,
   "toc_cell": false,
   "toc_section_display": "block",
   "toc_window_display": false,
   "widenNotebook": false
  }
 },
 "nbformat": 4,
 "nbformat_minor": 1
}
